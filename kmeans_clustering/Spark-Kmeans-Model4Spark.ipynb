{
 "cells": [
  {
   "cell_type": "code",
   "execution_count": 1,
   "metadata": {
    "collapsed": false
   },
   "outputs": [
    {
     "data": {
      "text/plain": [
       "<pyspark.context.SparkContext at 0x7f2f18321710>"
      ]
     },
     "execution_count": 1,
     "metadata": {},
     "output_type": "execute_result"
    }
   ],
   "source": [
    "sc"
   ]
  },
  {
   "cell_type": "code",
   "execution_count": 2,
   "metadata": {
    "collapsed": true
   },
   "outputs": [],
   "source": [
    "data = sc.textFile('data/sales_segments.csv.gz')"
   ]
  },
  {
   "cell_type": "code",
   "execution_count": 3,
   "metadata": {
    "collapsed": false
   },
   "outputs": [
    {
     "data": {
      "text/plain": [
       "[u'rloc^departure_date_seg^booking_date^freq_flyer_flag^creator_office_id^creator_iata_number^creator_gds_code^creator_city_code^creator_lat^creator_lon^creator_country_code^creator_continent_code^creator_channel_code^booking_status_code^cabin_code^booking_class_code^pos_office_id^pos_iata_number^pos_gds_code^pos_city_code^pos_lat^pos_lon^pos_country_code^pos_continent_code^pos_channel_code^board_point_seg^board_lat^board_lon^board_country_code^board_continent_code^off_point_seg^off_lat^off_lon^off_country_code^off_continent_code^num_legs^distance_seg^route^network^airline_code^flight_number^flight_type^revenue_source^estimated_flag^usage_board_point_seg^usage_off_point_seg^usage_flight_number^usage_date^non_currency_type^bookings_seg^rpk_seg^revenue_amount_seg^currency_code^fuel_surcharge_amount_seg^fuel_surcharge_currency_code^emd_count^emd_amount^emd_currency_code^total_outliers']"
      ]
     },
     "execution_count": 3,
     "metadata": {},
     "output_type": "execute_result"
    }
   ],
   "source": [
    "data.take(1)"
   ]
  },
  {
   "cell_type": "code",
   "execution_count": 4,
   "metadata": {
    "collapsed": true
   },
   "outputs": [],
   "source": [
    "#para eliminar la primera fila\n",
    "header = data.first()"
   ]
  },
  {
   "cell_type": "code",
   "execution_count": 5,
   "metadata": {
    "collapsed": true
   },
   "outputs": [],
   "source": [
    "lines = data.filter(lambda line: line != header)"
   ]
  },
  {
   "cell_type": "code",
   "execution_count": 6,
   "metadata": {
    "collapsed": false
   },
   "outputs": [
    {
     "data": {
      "text/plain": [
       "[u'59GS9Y^2013-12-21^2013-09-05^false^RUNHS3103^66200201^1A^RUN^-20.90083^55.53715^RE^Africa^Travel Agent^HK^Y^N^RUNHS3103^66200201^1A^RUN^-20.90083^55.53715^RE^Africa^Travel Agent^ZYR^50.8348^4.33653^BE^Europe^CDG^49.01278^2.55^FR^Europe^0^239.573363253866^CDG-ZYR^Europe^UU^5901^I^LIFT^false^ZYR^CDG^5901^2013-12-21^^1^239^33.56^EUR^7.30^EUR^0^0.00^^7.3']"
      ]
     },
     "execution_count": 6,
     "metadata": {},
     "output_type": "execute_result"
    }
   ],
   "source": [
    "lines.take(1)"
   ]
  },
  {
   "cell_type": "code",
   "execution_count": 7,
   "metadata": {
    "collapsed": false
   },
   "outputs": [
    {
     "data": {
      "text/plain": [
       "[u'59GS9Y',\n",
       " u'2013-12-21',\n",
       " u'2013-09-05',\n",
       " u'false',\n",
       " u'RUNHS3103',\n",
       " u'66200201',\n",
       " u'1A',\n",
       " u'RUN',\n",
       " u'-20.90083',\n",
       " u'55.53715',\n",
       " u'RE',\n",
       " u'Africa',\n",
       " u'Travel Agent',\n",
       " u'HK',\n",
       " u'Y',\n",
       " u'N',\n",
       " u'RUNHS3103',\n",
       " u'66200201',\n",
       " u'1A',\n",
       " u'RUN',\n",
       " u'-20.90083',\n",
       " u'55.53715',\n",
       " u'RE',\n",
       " u'Africa',\n",
       " u'Travel Agent',\n",
       " u'ZYR',\n",
       " u'50.8348',\n",
       " u'4.33653',\n",
       " u'BE',\n",
       " u'Europe',\n",
       " u'CDG',\n",
       " u'49.01278',\n",
       " u'2.55',\n",
       " u'FR',\n",
       " u'Europe',\n",
       " u'0',\n",
       " u'239.573363253866',\n",
       " u'CDG-ZYR',\n",
       " u'Europe',\n",
       " u'UU',\n",
       " u'5901',\n",
       " u'I',\n",
       " u'LIFT',\n",
       " u'false',\n",
       " u'ZYR',\n",
       " u'CDG',\n",
       " u'5901',\n",
       " u'2013-12-21',\n",
       " u'',\n",
       " u'1',\n",
       " u'239',\n",
       " u'33.56',\n",
       " u'EUR',\n",
       " u'7.30',\n",
       " u'EUR',\n",
       " u'0',\n",
       " u'0.00',\n",
       " u'',\n",
       " u'7.3']"
      ]
     },
     "execution_count": 7,
     "metadata": {},
     "output_type": "execute_result"
    }
   ],
   "source": [
    "lines.first().split('^')"
   ]
  },
  {
   "cell_type": "code",
   "execution_count": 8,
   "metadata": {
    "collapsed": true
   },
   "outputs": [],
   "source": [
    "#variables con las que vamo a trabajar en el clustering\n",
    "fields = ['bookings_seg', 'revenue_amount_seg', 'fuel_surcharge_amount_seg']"
   ]
  },
  {
   "cell_type": "code",
   "execution_count": 9,
   "metadata": {
    "collapsed": false
   },
   "outputs": [
    {
     "data": {
      "text/plain": [
       "49"
      ]
     },
     "execution_count": 9,
     "metadata": {},
     "output_type": "execute_result"
    }
   ],
   "source": [
    "header.split('^').index('bookings_seg')"
   ]
  },
  {
   "cell_type": "code",
   "execution_count": 10,
   "metadata": {
    "collapsed": false
   },
   "outputs": [
    {
     "data": {
      "text/plain": [
       "[49, 51, 53]"
      ]
     },
     "execution_count": 10,
     "metadata": {},
     "output_type": "execute_result"
    }
   ],
   "source": [
    "#iterar sobre fields para obtener los elementos correspondientes\n",
    "[header.split('^').index(field) for field in fields]"
   ]
  },
  {
   "cell_type": "code",
   "execution_count": 16,
   "metadata": {
    "collapsed": true
   },
   "outputs": [],
   "source": [
    "def average_fare_tax(line):\n",
    "    e = line.split('^')\n",
    "    bookings = float(e[49])\n",
    "    rev = float(e[51])\n",
    "    tax = float(e[53])\n",
    "    \n",
    "    av_rev = rev/bookings\n",
    "    av_tax = tax/bookings\n",
    "    \n",
    "    return (av_rev, av_tax)"
   ]
  },
  {
   "cell_type": "code",
   "execution_count": 17,
   "metadata": {
    "collapsed": false
   },
   "outputs": [
    {
     "data": {
      "text/plain": [
       "(33.56, 7.3)"
      ]
     },
     "execution_count": 17,
     "metadata": {},
     "output_type": "execute_result"
    }
   ],
   "source": [
    "average_fare_tax(lines.first())"
   ]
  },
  {
   "cell_type": "code",
   "execution_count": 18,
   "metadata": {
    "collapsed": true
   },
   "outputs": [],
   "source": [
    "simple = lines.map(average_fare_tax)"
   ]
  },
  {
   "cell_type": "code",
   "execution_count": 19,
   "metadata": {
    "collapsed": false
   },
   "outputs": [
    {
     "data": {
      "text/plain": [
       "[(33.56, 7.3), (61.2, 25.5), (71.86842105263158, 12.31578947368421)]"
      ]
     },
     "execution_count": 19,
     "metadata": {},
     "output_type": "execute_result"
    }
   ],
   "source": [
    "simple.take(3)"
   ]
  },
  {
   "cell_type": "code",
   "execution_count": 21,
   "metadata": {
    "collapsed": false
   },
   "outputs": [],
   "source": [
    "from pyspark.mllib.clustering import KMeans, KMeansModel"
   ]
  },
  {
   "cell_type": "code",
   "execution_count": 22,
   "metadata": {
    "collapsed": true
   },
   "outputs": [],
   "source": [
    "clusters = KMeans.train(simple, 10)"
   ]
  },
  {
   "cell_type": "code",
   "execution_count": 23,
   "metadata": {
    "collapsed": false
   },
   "outputs": [
    {
     "data": {
      "text/plain": [
       "10"
      ]
     },
     "execution_count": 23,
     "metadata": {},
     "output_type": "execute_result"
    }
   ],
   "source": [
    "clusters.k"
   ]
  },
  {
   "cell_type": "code",
   "execution_count": 24,
   "metadata": {
    "collapsed": false
   },
   "outputs": [
    {
     "data": {
      "text/plain": [
       "[array([ 431.19140489,  184.92581272]),\n",
       " array([  8.77500428e+05,   3.03020000e+01]),\n",
       " array([  6.15206951e+05,   2.97312500e+01]),\n",
       " array([  1.08940744e+05,   2.14350000e+01]),\n",
       " array([ 109.20412744,   63.82547158]),\n",
       " array([  1.39215574e+06,   3.27400000e+01]),\n",
       " array([  4.43932834e+04,   3.30665278e+01]),\n",
       " array([  3.72063199e+05,   1.03505455e+02]),\n",
       " array([ 1569.05656347,   208.88342533]),\n",
       " array([  2.62467806e+05,   7.43850000e+01])]"
      ]
     },
     "execution_count": 24,
     "metadata": {},
     "output_type": "execute_result"
    }
   ],
   "source": [
    "clusters.centers"
   ]
  },
  {
   "cell_type": "code",
   "execution_count": 25,
   "metadata": {
    "collapsed": false
   },
   "outputs": [
    {
     "data": {
      "text/plain": [
       "4"
      ]
     },
     "execution_count": 25,
     "metadata": {},
     "output_type": "execute_result"
    }
   ],
   "source": [
    "clusters.predict((33.56, 7.3))"
   ]
  },
  {
   "cell_type": "code",
   "execution_count": 35,
   "metadata": {
    "collapsed": false
   },
   "outputs": [],
   "source": [
    "bycluster = simple.map(lambda point: (clusters.predict(point), point))"
   ]
  },
  {
   "cell_type": "code",
   "execution_count": 30,
   "metadata": {
    "collapsed": false
   },
   "outputs": [
    {
     "data": {
      "text/plain": [
       "[(4, (33.56, 7.3)),\n",
       " (4, (61.2, 25.5)),\n",
       " (4, (71.86842105263158, 12.31578947368421))]"
      ]
     },
     "execution_count": 30,
     "metadata": {},
     "output_type": "execute_result"
    }
   ],
   "source": [
    "# devolvemos como clave el cluster y luego los valores av_rev y av_tax\n",
    "bycluster.take(3)"
   ]
  },
  {
   "cell_type": "code",
   "execution_count": null,
   "metadata": {
    "collapsed": true
   },
   "outputs": [],
   "source": [
    "# versión no óptima debido al posible tamaño de cada grupo\n",
    "# bycluster.groupByKey().take(3)"
   ]
  },
  {
   "cell_type": "code",
   "execution_count": 31,
   "metadata": {
    "collapsed": false
   },
   "outputs": [
    {
     "data": {
      "text/plain": [
       "[(0, <pyspark.resultiterable.ResultIterable at 0x7f2f0d579cd0>),\n",
       " (1, <pyspark.resultiterable.ResultIterable at 0x7f2f0d65bc50>),\n",
       " (2, <pyspark.resultiterable.ResultIterable at 0x7f2f0d5cbcd0>)]"
      ]
     },
     "execution_count": 31,
     "metadata": {},
     "output_type": "execute_result"
    }
   ],
   "source": []
  },
  {
   "cell_type": "code",
   "execution_count": null,
   "metadata": {
    "collapsed": true
   },
   "outputs": [],
   "source": [
    "def calc_avg_reduce()"
   ]
  },
  {
   "cell_type": "code",
   "execution_count": 33,
   "metadata": {
    "collapsed": false
   },
   "outputs": [
    {
     "ename": "NameError",
     "evalue": "name 'calc_avg_reduce' is not defined",
     "output_type": "error",
     "traceback": [
      "\u001b[1;31m---------------------------------------------------------------------------\u001b[0m",
      "\u001b[1;31mNameError\u001b[0m                                 Traceback (most recent call last)",
      "\u001b[1;32m<ipython-input-33-62e11831817b>\u001b[0m in \u001b[0;36m<module>\u001b[1;34m()\u001b[0m\n\u001b[1;32m----> 1\u001b[1;33m \u001b[0mmeans\u001b[0m \u001b[1;33m=\u001b[0m \u001b[0mbycluster\u001b[0m\u001b[1;33m.\u001b[0m\u001b[0mreduceByKey\u001b[0m\u001b[1;33m(\u001b[0m\u001b[0mcalc_avg_reduce\u001b[0m\u001b[1;33m)\u001b[0m\u001b[1;33m\u001b[0m\u001b[0m\n\u001b[0m",
      "\u001b[1;31mNameError\u001b[0m: name 'calc_avg_reduce' is not defined"
     ]
    }
   ],
   "source": [
    "means = bycluster.reduceByKey(calc_avg_reduce)"
   ]
  },
  {
   "cell_type": "code",
   "execution_count": null,
   "metadata": {
    "collapsed": true
   },
   "outputs": [],
   "source": []
  },
  {
   "cell_type": "code",
   "execution_count": 34,
   "metadata": {
    "collapsed": true
   },
   "outputs": [],
   "source": [
    "bycluster_whithones = simple.map(lambda (x,y): (clusters.predict((x,y)), (x,y,1)))"
   ]
  },
  {
   "cell_type": "code",
   "execution_count": 37,
   "metadata": {
    "collapsed": false
   },
   "outputs": [
    {
     "data": {
      "text/plain": [
       "PythonRDD[64] at RDD at PythonRDD.scala:43"
      ]
     },
     "execution_count": 37,
     "metadata": {},
     "output_type": "execute_result"
    }
   ],
   "source": [
    "bycluster_whithones.cache()"
   ]
  },
  {
   "cell_type": "code",
   "execution_count": 38,
   "metadata": {
    "collapsed": false
   },
   "outputs": [
    {
     "data": {
      "text/plain": [
       "[(4, (33.56, 7.3, 1)),\n",
       " (4, (61.2, 25.5, 1)),\n",
       " (4, (71.86842105263158, 12.31578947368421, 1))]"
      ]
     },
     "execution_count": 38,
     "metadata": {},
     "output_type": "execute_result"
    }
   ],
   "source": [
    "bycluster_whithones.take(3)"
   ]
  },
  {
   "cell_type": "code",
   "execution_count": 45,
   "metadata": {
    "collapsed": true
   },
   "outputs": [],
   "source": [
    "def calc_avg_reduce(acc,p):\n",
    "    (rev_p, tax_p, c) = p\n",
    "    (rev_ac, tax_ac, c_ac) = acc\n",
    "    result = (rev_p + rev_ac, tax_p + tax_ac, c + c_ac)\n",
    "    return result"
   ]
  },
  {
   "cell_type": "code",
   "execution_count": 46,
   "metadata": {
    "collapsed": false
   },
   "outputs": [
    {
     "data": {
      "text/plain": [
       "[(0, (152480491.74609438, 65394575.44836157, 353626)),\n",
       " (1, (8775004.28, 303.02, 10)),\n",
       " (2, (4921655.609999999, 237.84999999999997, 8))]"
      ]
     },
     "execution_count": 46,
     "metadata": {},
     "output_type": "execute_result"
    }
   ],
   "source": [
    "bycluster_whithones.reduceByKey(calc_avg_reduce).take(3)"
   ]
  },
  {
   "cell_type": "code",
   "execution_count": 47,
   "metadata": {
    "collapsed": true
   },
   "outputs": [],
   "source": [
    "avs = bycluster_whithones.reduceByKey(calc_avg_reduce)"
   ]
  },
  {
   "cell_type": "code",
   "execution_count": 48,
   "metadata": {
    "collapsed": false
   },
   "outputs": [
    {
     "data": {
      "text/plain": [
       "[(0, (152480491.74609438, 65394575.44836157, 353626)),\n",
       " (1, (8775004.28, 303.02, 10)),\n",
       " (2, (4921655.609999999, 237.84999999999997, 8))]"
      ]
     },
     "execution_count": 48,
     "metadata": {},
     "output_type": "execute_result"
    }
   ],
   "source": [
    "avs.take(3)"
   ]
  },
  {
   "cell_type": "code",
   "execution_count": 51,
   "metadata": {
    "collapsed": true
   },
   "outputs": [],
   "source": [
    "def medias(clust):\n",
    "    rev_t, tax_t, count = clust\n",
    "    \n",
    "    \n",
    "    return(rev_t / count, tax_t/count, count)"
   ]
  },
  {
   "cell_type": "code",
   "execution_count": 52,
   "metadata": {
    "collapsed": false
   },
   "outputs": [
    {
     "data": {
      "text/plain": [
       "[(0, (431.19140489130996, 184.92581271841314, 353626)),\n",
       " (1, (877500.428, 30.302, 10)),\n",
       " (2, (615206.9512499999, 29.731249999999996, 8))]"
      ]
     },
     "execution_count": 52,
     "metadata": {},
     "output_type": "execute_result"
    }
   ],
   "source": [
    "avs.mapValues(medias).take(3)"
   ]
  },
  {
   "cell_type": "code",
   "execution_count": 53,
   "metadata": {
    "collapsed": true
   },
   "outputs": [],
   "source": [
    "averages = avs.mapValues(medias)"
   ]
  },
  {
   "cell_type": "code",
   "execution_count": 54,
   "metadata": {
    "collapsed": false
   },
   "outputs": [
    {
     "data": {
      "text/plain": [
       "[(0.0, (15.91, (431.19140489130996, 184.92581271841314, 353626))),\n",
       " (0.0, (15.76, (431.19140489130996, 184.92581271841314, 353626))),\n",
       " (0.0, (7.41, (431.19140489130996, 184.92581271841314, 353626)))]"
      ]
     },
     "execution_count": 54,
     "metadata": {},
     "output_type": "execute_result"
    }
   ],
   "source": [
    "# no funciona ya que los cluster (primera columna) se ha transformado a float y no encuentra la clave para hacer el join. En una tabbla tenermos enternos y en otras float para el número del cluster\n",
    "simple.join(averages).take(3)"
   ]
  },
  {
   "cell_type": "code",
   "execution_count": 55,
   "metadata": {
    "collapsed": false
   },
   "outputs": [
    {
     "data": {
      "text/plain": [
       "[(0, ((419.985, 295.34, 1), (431.19140489130996, 184.92581271841314, 353626))),\n",
       " (0, ((306.85, 159.77, 1), (431.19140489130996, 184.92581271841314, 353626))),\n",
       " (0, ((328.75, 166.25, 1), (431.19140489130996, 184.92581271841314, 353626)))]"
      ]
     },
     "execution_count": 55,
     "metadata": {},
     "output_type": "execute_result"
    }
   ],
   "source": [
    "# Tenemos los puntos con sus medias. Falta ahora las sd\n",
    "bycluster_whithones.join(averages).take(3)"
   ]
  },
  {
   "cell_type": "code",
   "execution_count": 60,
   "metadata": {
    "collapsed": true
   },
   "outputs": [],
   "source": [
    "def sq_diffs(p_with_cluster_mean):\n",
    "    ((rev, tax, n), (av_rev, av_tax, n_cl)) = p_with_cluster_mean\n",
    "    rev_sqdiff = (rev - av_rev)**2\n",
    "    tax_sqdiff = (tax - av_tax)**2\n",
    "    return (rev_sqdiff, tax_sqdiff, 1) #añadimos un 1 para reutilizar en el mapValues posterior  la función calc_avg_reduce definida previamente"
   ]
  },
  {
   "cell_type": "code",
   "execution_count": 61,
   "metadata": {
    "collapsed": true
   },
   "outputs": [],
   "source": [
    "points_w_means_sqdiff = bycluster_whithones.join(averages).mapValues(sq_diffs)"
   ]
  },
  {
   "cell_type": "code",
   "execution_count": 62,
   "metadata": {
    "collapsed": false
   },
   "outputs": [
    {
     "data": {
      "text/plain": [
       "[(0, (125.58351058797544, 12191.292753053332, 1)),\n",
       " (0, (15460.784970344674, 632.8149135238758, 1)),\n",
       " (0, (10494.241436105303, 348.78598069324204, 1))]"
      ]
     },
     "execution_count": 62,
     "metadata": {},
     "output_type": "execute_result"
    }
   ],
   "source": [
    "points_w_means_sqdiff.take(3)"
   ]
  },
  {
   "cell_type": "code",
   "execution_count": 65,
   "metadata": {
    "collapsed": true
   },
   "outputs": [],
   "source": [
    "total_sqdiffs = points_w_means_sqdiff.reduceByKey(calc_avg_reduce)"
   ]
  },
  {
   "cell_type": "code",
   "execution_count": 66,
   "metadata": {
    "collapsed": false
   },
   "outputs": [
    {
     "data": {
      "text/plain": [
       "[(0, (9259201218.540583, 1231441151.841926, 353626)),\n",
       " (8, (15449812306.228933, 80645461.58142972, 20172)),\n",
       " (2, (19789565668.146088, 16.646487499999974, 8))]"
      ]
     },
     "execution_count": 66,
     "metadata": {},
     "output_type": "execute_result"
    }
   ],
   "source": [
    "total_sqdiffs.take(3)"
   ]
  },
  {
   "cell_type": "code",
   "execution_count": 70,
   "metadata": {
    "collapsed": false
   },
   "outputs": [],
   "source": [
    "from math import sqrt\n",
    "def stdevs(sqdiffs_percluster):\n",
    "    sqd_rev_total, sqd_tax_total, n_cl = sqdiffs_percluster\n",
    "    std_rev = sqrt(sqd_rev_total / n_cl)\n",
    "    std_tax = sqrt(sqd_tax_total / n_cl)\n",
    "    return(std_rev, std_tax)"
   ]
  },
  {
   "cell_type": "code",
   "execution_count": 71,
   "metadata": {
    "collapsed": false
   },
   "outputs": [
    {
     "data": {
      "text/plain": [
       "[(0, (161.81346836246698, 59.0112395191024)),\n",
       " (8, (875.1593239336152, 63.22887959331325)),\n",
       " (2, (49736.26150524646, 1.442501624782446))]"
      ]
     },
     "execution_count": 71,
     "metadata": {},
     "output_type": "execute_result"
    }
   ],
   "source": [
    "total_sqdiffs.mapValues(stdevs).take(3)"
   ]
  },
  {
   "cell_type": "code",
   "execution_count": 72,
   "metadata": {
    "collapsed": true
   },
   "outputs": [],
   "source": [
    "#stds de cada cluster\n",
    "stds_cluster = total_sqdiffs.mapValues(stdevs)"
   ]
  },
  {
   "cell_type": "code",
   "execution_count": 73,
   "metadata": {
    "collapsed": true
   },
   "outputs": [],
   "source": [
    "#\n",
    "cluster_stats = averages.join(stds_cluster)"
   ]
  },
  {
   "cell_type": "code",
   "execution_count": 75,
   "metadata": {
    "collapsed": false
   },
   "outputs": [
    {
     "data": {
      "text/plain": [
       "[(0,\n",
       "  ((431.19140489130996, 184.92581271841314, 353626),\n",
       "   (161.81346836246698, 59.0112395191024))),\n",
       " (9, ((262467.80625, 74.385, 8), (39946.08169664359, 66.4795444102921))),\n",
       " (3,\n",
       "  ((108940.74429347813, 21.435000000000002, 92),\n",
       "   (12115.104061334052, 66.30331842144592))),\n",
       " (6,\n",
       "  ((44393.28336111112, 33.06652777777777, 45),\n",
       "   (12220.549006478257, 34.73696625363494))),\n",
       " (1, ((877500.428, 30.302, 10), (47658.199670890375, 1.7160000000000006))),\n",
       " (4,\n",
       "  ((109.20412743506554, 63.825471579108125, 1085148),\n",
       "   (73.76072667630477, 70.99590103982047))),\n",
       " (7,\n",
       "  ((372063.1990909091, 103.50545454545455, 11),\n",
       "   (39087.8175471541, 122.55136424919489))),\n",
       " (8,\n",
       "  ((1569.0565634713648, 208.88342533064937, 20172),\n",
       "   (875.1593239336152, 63.22887959331325))),\n",
       " (2,\n",
       "  ((615206.9512499999, 29.731249999999996, 8),\n",
       "   (49736.26150524646, 1.442501624782446))),\n",
       " (5, ((1392155.74, 32.74, 1), (0.0, 0.0)))]"
      ]
     },
     "execution_count": 75,
     "metadata": {},
     "output_type": "execute_result"
    }
   ],
   "source": [
    "#vemos que hay un cluster con media y desviación 0. Tiene que ver con los grados de libertad\n",
    "cluster_stats.collect()"
   ]
  },
  {
   "cell_type": "code",
   "execution_count": 77,
   "metadata": {
    "collapsed": false
   },
   "outputs": [
    {
     "data": {
      "text/plain": [
       "[(0,\n",
       "  ((431.19140489130996, 184.92581271841314, 353626),\n",
       "   (161.81346836246698, 59.0112395191024)))]"
      ]
     },
     "execution_count": 77,
     "metadata": {},
     "output_type": "execute_result"
    }
   ],
   "source": [
    "cluster_stats.take(1)"
   ]
  },
  {
   "cell_type": "code",
   "execution_count": 78,
   "metadata": {
    "collapsed": false
   },
   "outputs": [
    {
     "data": {
      "text/plain": [
       "[(0,\n",
       "  ((419.985, 295.34),\n",
       "   ((431.19140489130996, 184.92581271841314, 353626),\n",
       "    (161.81346836246698, 59.0112395191024)))),\n",
       " (0,\n",
       "  ((306.85, 159.77),\n",
       "   ((431.19140489130996, 184.92581271841314, 353626),\n",
       "    (161.81346836246698, 59.0112395191024)))),\n",
       " (0,\n",
       "  ((328.75, 166.25),\n",
       "   ((431.19140489130996, 184.92581271841314, 353626),\n",
       "    (161.81346836246698, 59.0112395191024))))]"
      ]
     },
     "execution_count": 78,
     "metadata": {},
     "output_type": "execute_result"
    }
   ],
   "source": [
    "# Asignamos a cada fila del conjunto de datos los resultados de la table del cluster anterior\n",
    "bycluster.join(cluster_stats).take(3)"
   ]
  },
  {
   "cell_type": "code",
   "execution_count": 85,
   "metadata": {
    "collapsed": true
   },
   "outputs": [],
   "source": [
    "full = bycluster.join(cluster_stats).cache()"
   ]
  },
  {
   "cell_type": "code",
   "execution_count": 100,
   "metadata": {
    "collapsed": true
   },
   "outputs": [],
   "source": [
    "def zscore(p_w_stats):\n",
    "    \n",
    "    p, stats = p_w_stats \n",
    "    # point = ((306.85, 159.77)\n",
    "    #stats = ((431.19140489130996, 184.92581271841314, 353626), (161.81346836246698, 59.0112395191024))))\n",
    "    rev, tax = p\n",
    "    means, stdevs = stats\n",
    "    rev_m, tax_m, _ =  means # Opcional: descarto n_cl, lo reemplazo por un _ ya que no lo necesito.\n",
    "    rev_std, tax_std = stdevs\n",
    "    \n",
    "    if rev_std == 0:\n",
    "        return rev, tax, 3000, True # en el caso de que una std sea 0 y para que un cluster de un sólo elemento sea considerado como outlier, le asigno un std de 3000\n",
    "\n",
    "    zscore_rev = (rev - rev_m) / rev_std\n",
    "    zscore_tax = (tax - rev_m) / tax_std\n",
    "    \n",
    "    zscore = sqrt(zscore_rev**2 + zscore_tax**2)\n",
    "    outlier = zscore > 3\n",
    "    \n",
    "    \n",
    "    \n",
    "    return rev, tax, zscore, outlier"
   ]
  },
  {
   "cell_type": "code",
   "execution_count": 101,
   "metadata": {
    "collapsed": false
   },
   "outputs": [
    {
     "data": {
      "text/plain": [
       "(419.985, 295.34, 2.303169095910934, False)"
      ]
     },
     "execution_count": 101,
     "metadata": {},
     "output_type": "execute_result"
    }
   ],
   "source": [
    "zscore(full.first()[1])"
   ]
  },
  {
   "cell_type": "code",
   "execution_count": 102,
   "metadata": {
    "collapsed": false
   },
   "outputs": [],
   "source": [
    "outliers = full.mapValues(zscore)"
   ]
  },
  {
   "cell_type": "code",
   "execution_count": 103,
   "metadata": {
    "collapsed": false
   },
   "outputs": [
    {
     "data": {
      "text/plain": [
       "[(0, (419.985, 295.34, 2.303169095910934, False)),\n",
       " (0, (306.85, 159.77, 4.663234161164518, True)),\n",
       " (0, (328.75, 166.25, 4.534092416808896, True))]"
      ]
     },
     "execution_count": 103,
     "metadata": {},
     "output_type": "execute_result"
    }
   ],
   "source": [
    "outliers.take(3)"
   ]
  },
  {
   "cell_type": "code",
   "execution_count": 104,
   "metadata": {
    "collapsed": false
   },
   "outputs": [],
   "source": [
    "outliers.saveAsTextFile('outliers')"
   ]
  },
  {
   "cell_type": "code",
   "execution_count": null,
   "metadata": {
    "collapsed": true
   },
   "outputs": [],
   "source": []
  }
 ],
 "metadata": {
  "kernelspec": {
   "display_name": "PySpark",
   "language": "python",
   "name": "pyspark"
  },
  "language_info": {
   "codemirror_mode": {
    "name": "ipython",
    "version": 2
   },
   "file_extension": ".py",
   "mimetype": "text/x-python",
   "name": "python",
   "nbconvert_exporter": "python",
   "pygments_lexer": "ipython2",
   "version": "2.7.10"
  }
 },
 "nbformat": 4,
 "nbformat_minor": 0
}
