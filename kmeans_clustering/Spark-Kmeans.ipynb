{
 "cells": [
  {
   "cell_type": "markdown",
   "metadata": {},
   "source": [
    "# K-means clustering with Python in Apache Spark"
   ]
  },
  {
   "cell_type": "code",
   "execution_count": 4,
   "metadata": {
    "collapsed": false
   },
   "outputs": [
    {
     "name": "stdout",
     "output_type": "stream",
     "text": [
      "\u001b[0m\u001b[01;31msales_segments.csv.gz\u001b[0m\r\n"
     ]
    }
   ],
   "source": [
    "%ls data"
   ]
  },
  {
   "cell_type": "code",
   "execution_count": 5,
   "metadata": {
    "collapsed": true
   },
   "outputs": [],
   "source": [
    "import gzip"
   ]
  },
  {
   "cell_type": "code",
   "execution_count": 6,
   "metadata": {
    "collapsed": true
   },
   "outputs": [],
   "source": [
    "f = gzip.GzipFile('data/sales_segments.csv.gz')"
   ]
  },
  {
   "cell_type": "code",
   "execution_count": 7,
   "metadata": {
    "collapsed": false
   },
   "outputs": [
    {
     "data": {
      "text/plain": [
       "gzip.GzipFile"
      ]
     },
     "execution_count": 7,
     "metadata": {},
     "output_type": "execute_result"
    }
   ],
   "source": [
    "type(f)"
   ]
  },
  {
   "cell_type": "code",
   "execution_count": 8,
   "metadata": {
    "collapsed": true
   },
   "outputs": [],
   "source": [
    "import pandas as pd"
   ]
  },
  {
   "cell_type": "code",
   "execution_count": 11,
   "metadata": {
    "collapsed": true
   },
   "outputs": [],
   "source": [
    "#como ya lo he ejecutado antes, he consumido el iterador. Debo volver a declararlo\n",
    "f = gzip.GzipFile('data/sales_segments.csv.gz')"
   ]
  },
  {
   "cell_type": "code",
   "execution_count": 12,
   "metadata": {
    "collapsed": false
   },
   "outputs": [
    {
     "name": "stderr",
     "output_type": "stream",
     "text": [
      "/usr/lib64/python2.7/site-packages/pandas/io/parsers.py:1170: DtypeWarning: Columns (40,44,45,47,48,57) have mixed types. Specify dtype option on import or set low_memory=False.\n",
      "  data = self._reader.read(nrows)\n"
     ]
    }
   ],
   "source": [
    "df = pd.read_csv(f, sep = '^')"
   ]
  },
  {
   "cell_type": "code",
   "execution_count": 13,
   "metadata": {
    "collapsed": false
   },
   "outputs": [
    {
     "data": {
      "text/html": [
       "<div>\n",
       "<table border=\"1\" class=\"dataframe\">\n",
       "  <thead>\n",
       "    <tr style=\"text-align: right;\">\n",
       "      <th></th>\n",
       "      <th>rloc</th>\n",
       "      <th>departure_date_seg</th>\n",
       "      <th>booking_date</th>\n",
       "      <th>freq_flyer_flag</th>\n",
       "      <th>creator_office_id</th>\n",
       "      <th>creator_iata_number</th>\n",
       "      <th>creator_gds_code</th>\n",
       "      <th>creator_city_code</th>\n",
       "      <th>creator_lat</th>\n",
       "      <th>creator_lon</th>\n",
       "      <th>...</th>\n",
       "      <th>bookings_seg</th>\n",
       "      <th>rpk_seg</th>\n",
       "      <th>revenue_amount_seg</th>\n",
       "      <th>currency_code</th>\n",
       "      <th>fuel_surcharge_amount_seg</th>\n",
       "      <th>fuel_surcharge_currency_code</th>\n",
       "      <th>emd_count</th>\n",
       "      <th>emd_amount</th>\n",
       "      <th>emd_currency_code</th>\n",
       "      <th>total_outliers</th>\n",
       "    </tr>\n",
       "  </thead>\n",
       "  <tbody>\n",
       "    <tr>\n",
       "      <th>0</th>\n",
       "      <td>59GS9Y</td>\n",
       "      <td>2013-12-21</td>\n",
       "      <td>2013-09-05</td>\n",
       "      <td>False</td>\n",
       "      <td>RUNHS3103</td>\n",
       "      <td>66200201</td>\n",
       "      <td>1A</td>\n",
       "      <td>RUN</td>\n",
       "      <td>-20.90083</td>\n",
       "      <td>55.53715</td>\n",
       "      <td>...</td>\n",
       "      <td>1</td>\n",
       "      <td>239</td>\n",
       "      <td>33.56</td>\n",
       "      <td>EUR</td>\n",
       "      <td>7.30</td>\n",
       "      <td>EUR</td>\n",
       "      <td>0</td>\n",
       "      <td>0</td>\n",
       "      <td>NaN</td>\n",
       "      <td>7.300000</td>\n",
       "    </tr>\n",
       "    <tr>\n",
       "      <th>1</th>\n",
       "      <td>4D87YU</td>\n",
       "      <td>2013-12-29</td>\n",
       "      <td>2013-01-29</td>\n",
       "      <td>False</td>\n",
       "      <td>RUNUU000B</td>\n",
       "      <td>66490104</td>\n",
       "      <td>UU</td>\n",
       "      <td>RUN</td>\n",
       "      <td>-20.90083</td>\n",
       "      <td>55.53715</td>\n",
       "      <td>...</td>\n",
       "      <td>5</td>\n",
       "      <td>1116</td>\n",
       "      <td>306.00</td>\n",
       "      <td>EUR</td>\n",
       "      <td>127.50</td>\n",
       "      <td>EUR</td>\n",
       "      <td>0</td>\n",
       "      <td>0</td>\n",
       "      <td>NaN</td>\n",
       "      <td>77.271017</td>\n",
       "    </tr>\n",
       "    <tr>\n",
       "      <th>2</th>\n",
       "      <td>7W67K8</td>\n",
       "      <td>2013-12-29</td>\n",
       "      <td>2013-02-05</td>\n",
       "      <td>False</td>\n",
       "      <td>RUNUU01A3</td>\n",
       "      <td>66490830</td>\n",
       "      <td>UU</td>\n",
       "      <td>RUN</td>\n",
       "      <td>-20.90083</td>\n",
       "      <td>55.53715</td>\n",
       "      <td>...</td>\n",
       "      <td>19</td>\n",
       "      <td>4240</td>\n",
       "      <td>1365.50</td>\n",
       "      <td>EUR</td>\n",
       "      <td>234.00</td>\n",
       "      <td>EUR</td>\n",
       "      <td>0</td>\n",
       "      <td>0</td>\n",
       "      <td>NaN</td>\n",
       "      <td>278.175661</td>\n",
       "    </tr>\n",
       "    <tr>\n",
       "      <th>3</th>\n",
       "      <td>3ESPWM</td>\n",
       "      <td>2013-12-29</td>\n",
       "      <td>2013-03-19</td>\n",
       "      <td>False</td>\n",
       "      <td>RUNUU010C</td>\n",
       "      <td>66490771</td>\n",
       "      <td>UU</td>\n",
       "      <td>RUN</td>\n",
       "      <td>-20.90083</td>\n",
       "      <td>55.53715</td>\n",
       "      <td>...</td>\n",
       "      <td>3</td>\n",
       "      <td>1220</td>\n",
       "      <td>81.35</td>\n",
       "      <td>EUR</td>\n",
       "      <td>39.93</td>\n",
       "      <td>EUR</td>\n",
       "      <td>0</td>\n",
       "      <td>0</td>\n",
       "      <td>NaN</td>\n",
       "      <td>32.458243</td>\n",
       "    </tr>\n",
       "    <tr>\n",
       "      <th>4</th>\n",
       "      <td>6ITPJM</td>\n",
       "      <td>2013-12-29</td>\n",
       "      <td>2013-05-11</td>\n",
       "      <td>False</td>\n",
       "      <td>MRSA12108</td>\n",
       "      <td>20261721</td>\n",
       "      <td>1A</td>\n",
       "      <td>MRS</td>\n",
       "      <td>43.29695</td>\n",
       "      <td>5.38107</td>\n",
       "      <td>...</td>\n",
       "      <td>2</td>\n",
       "      <td>1342</td>\n",
       "      <td>0.00</td>\n",
       "      <td>EUR</td>\n",
       "      <td>31.82</td>\n",
       "      <td>EUR</td>\n",
       "      <td>0</td>\n",
       "      <td>0</td>\n",
       "      <td>NaN</td>\n",
       "      <td>32.496507</td>\n",
       "    </tr>\n",
       "  </tbody>\n",
       "</table>\n",
       "<p>5 rows × 59 columns</p>\n",
       "</div>"
      ],
      "text/plain": [
       "     rloc departure_date_seg booking_date freq_flyer_flag creator_office_id  \\\n",
       "0  59GS9Y         2013-12-21   2013-09-05           False         RUNHS3103   \n",
       "1  4D87YU         2013-12-29   2013-01-29           False         RUNUU000B   \n",
       "2  7W67K8         2013-12-29   2013-02-05           False         RUNUU01A3   \n",
       "3  3ESPWM         2013-12-29   2013-03-19           False         RUNUU010C   \n",
       "4  6ITPJM         2013-12-29   2013-05-11           False         MRSA12108   \n",
       "\n",
       "   creator_iata_number creator_gds_code creator_city_code  creator_lat  \\\n",
       "0             66200201               1A               RUN    -20.90083   \n",
       "1             66490104               UU               RUN    -20.90083   \n",
       "2             66490830               UU               RUN    -20.90083   \n",
       "3             66490771               UU               RUN    -20.90083   \n",
       "4             20261721               1A               MRS     43.29695   \n",
       "\n",
       "   creator_lon      ...       bookings_seg rpk_seg revenue_amount_seg  \\\n",
       "0     55.53715      ...                  1     239              33.56   \n",
       "1     55.53715      ...                  5    1116             306.00   \n",
       "2     55.53715      ...                 19    4240            1365.50   \n",
       "3     55.53715      ...                  3    1220              81.35   \n",
       "4      5.38107      ...                  2    1342               0.00   \n",
       "\n",
       "  currency_code fuel_surcharge_amount_seg fuel_surcharge_currency_code  \\\n",
       "0           EUR                      7.30                          EUR   \n",
       "1           EUR                    127.50                          EUR   \n",
       "2           EUR                    234.00                          EUR   \n",
       "3           EUR                     39.93                          EUR   \n",
       "4           EUR                     31.82                          EUR   \n",
       "\n",
       "  emd_count  emd_amount emd_currency_code total_outliers  \n",
       "0         0           0               NaN       7.300000  \n",
       "1         0           0               NaN      77.271017  \n",
       "2         0           0               NaN     278.175661  \n",
       "3         0           0               NaN      32.458243  \n",
       "4         0           0               NaN      32.496507  \n",
       "\n",
       "[5 rows x 59 columns]"
      ]
     },
     "execution_count": 13,
     "metadata": {},
     "output_type": "execute_result"
    }
   ],
   "source": [
    "df.head()"
   ]
  },
  {
   "cell_type": "code",
   "execution_count": 16,
   "metadata": {
    "collapsed": false
   },
   "outputs": [
    {
     "data": {
      "text/plain": [
       "86088139"
      ]
     },
     "execution_count": 16,
     "metadata": {},
     "output_type": "execute_result"
    }
   ],
   "source": [
    "df.size"
   ]
  },
  {
   "cell_type": "code",
   "execution_count": 15,
   "metadata": {
    "collapsed": false
   },
   "outputs": [
    {
     "data": {
      "text/plain": [
       "Index([u'rloc', u'departure_date_seg', u'booking_date', u'freq_flyer_flag',\n",
       "       u'creator_office_id', u'creator_iata_number', u'creator_gds_code',\n",
       "       u'creator_city_code', u'creator_lat', u'creator_lon',\n",
       "       u'creator_country_code', u'creator_continent_code',\n",
       "       u'creator_channel_code', u'booking_status_code', u'cabin_code',\n",
       "       u'booking_class_code', u'pos_office_id', u'pos_iata_number',\n",
       "       u'pos_gds_code', u'pos_city_code', u'pos_lat', u'pos_lon',\n",
       "       u'pos_country_code', u'pos_continent_code', u'pos_channel_code',\n",
       "       u'board_point_seg', u'board_lat', u'board_lon', u'board_country_code',\n",
       "       u'board_continent_code', u'off_point_seg', u'off_lat', u'off_lon',\n",
       "       u'off_country_code', u'off_continent_code', u'num_legs',\n",
       "       u'distance_seg', u'route', u'network', u'airline_code',\n",
       "       u'flight_number', u'flight_type', u'revenue_source', u'estimated_flag',\n",
       "       u'usage_board_point_seg', u'usage_off_point_seg',\n",
       "       u'usage_flight_number', u'usage_date', u'non_currency_type',\n",
       "       u'bookings_seg', u'rpk_seg', u'revenue_amount_seg', u'currency_code',\n",
       "       u'fuel_surcharge_amount_seg', u'fuel_surcharge_currency_code',\n",
       "       u'emd_count', u'emd_amount', u'emd_currency_code', u'total_outliers'],\n",
       "      dtype='object')"
      ]
     },
     "execution_count": 15,
     "metadata": {},
     "output_type": "execute_result"
    }
   ],
   "source": [
    "df.columns"
   ]
  },
  {
   "cell_type": "code",
   "execution_count": 17,
   "metadata": {
    "collapsed": false
   },
   "outputs": [
    {
     "data": {
      "text/plain": [
       "rloc                            1459121\n",
       "departure_date_seg              1459121\n",
       "booking_date                    1459121\n",
       "freq_flyer_flag                 1459121\n",
       "creator_office_id               1459121\n",
       "creator_iata_number             1414716\n",
       "creator_gds_code                1459121\n",
       "creator_city_code               1459121\n",
       "creator_lat                     1459121\n",
       "creator_lon                     1459121\n",
       "creator_country_code            1459103\n",
       "creator_continent_code          1459121\n",
       "creator_channel_code            1454248\n",
       "booking_status_code             1458491\n",
       "cabin_code                      1459121\n",
       "booking_class_code              1459121\n",
       "pos_office_id                   1455702\n",
       "pos_iata_number                 1455702\n",
       "pos_gds_code                    1455702\n",
       "pos_city_code                   1448816\n",
       "pos_lat                         1448816\n",
       "pos_lon                         1448816\n",
       "pos_country_code                1448798\n",
       "pos_continent_code              1448816\n",
       "pos_channel_code                1455216\n",
       "board_point_seg                 1459121\n",
       "board_lat                       1459120\n",
       "board_lon                       1459120\n",
       "board_country_code              1459079\n",
       "board_continent_code            1459120\n",
       "off_point_seg                   1459121\n",
       "off_lat                         1459120\n",
       "off_lon                         1459120\n",
       "off_country_code                1459073\n",
       "off_continent_code              1459120\n",
       "num_legs                        1459121\n",
       "distance_seg                    1459121\n",
       "route                           1459120\n",
       "network                         1459120\n",
       "airline_code                    1459121\n",
       "flight_number                   1459121\n",
       "flight_type                     1459120\n",
       "revenue_source                  1459121\n",
       "estimated_flag                  1459121\n",
       "usage_board_point_seg           1294884\n",
       "usage_off_point_seg             1294884\n",
       "usage_flight_number             1294228\n",
       "usage_date                      1294884\n",
       "non_currency_type                171602\n",
       "bookings_seg                    1459121\n",
       "rpk_seg                         1459121\n",
       "revenue_amount_seg              1459121\n",
       "currency_code                   1459121\n",
       "fuel_surcharge_amount_seg       1459121\n",
       "fuel_surcharge_currency_code    1459121\n",
       "emd_count                       1459121\n",
       "emd_amount                      1459121\n",
       "emd_currency_code                 33768\n",
       "total_outliers                  1459121\n",
       "dtype: int64"
      ]
     },
     "execution_count": 17,
     "metadata": {},
     "output_type": "execute_result"
    }
   ],
   "source": [
    "df.count()"
   ]
  },
  {
   "cell_type": "markdown",
   "metadata": {},
   "source": [
    "#### Vamos a ver outliers dentro de los precios, debido a supuestas incoherencias entre precios y tasas"
   ]
  },
  {
   "cell_type": "code",
   "execution_count": 22,
   "metadata": {
    "collapsed": false
   },
   "outputs": [],
   "source": [
    "df = df[['bookings_seg', 'revenue_amount_seg', 'fuel_surcharge_amount_seg']]"
   ]
  },
  {
   "cell_type": "code",
   "execution_count": 23,
   "metadata": {
    "collapsed": false
   },
   "outputs": [
    {
     "data": {
      "text/html": [
       "<div>\n",
       "<table border=\"1\" class=\"dataframe\">\n",
       "  <thead>\n",
       "    <tr style=\"text-align: right;\">\n",
       "      <th></th>\n",
       "      <th>bookings_seg</th>\n",
       "      <th>revenue_amount_seg</th>\n",
       "      <th>fuel_surcharge_amount_seg</th>\n",
       "    </tr>\n",
       "  </thead>\n",
       "  <tbody>\n",
       "    <tr>\n",
       "      <th>0</th>\n",
       "      <td>1</td>\n",
       "      <td>33.56</td>\n",
       "      <td>7.30</td>\n",
       "    </tr>\n",
       "    <tr>\n",
       "      <th>1</th>\n",
       "      <td>5</td>\n",
       "      <td>306.00</td>\n",
       "      <td>127.50</td>\n",
       "    </tr>\n",
       "    <tr>\n",
       "      <th>2</th>\n",
       "      <td>19</td>\n",
       "      <td>1365.50</td>\n",
       "      <td>234.00</td>\n",
       "    </tr>\n",
       "    <tr>\n",
       "      <th>3</th>\n",
       "      <td>3</td>\n",
       "      <td>81.35</td>\n",
       "      <td>39.93</td>\n",
       "    </tr>\n",
       "    <tr>\n",
       "      <th>4</th>\n",
       "      <td>2</td>\n",
       "      <td>0.00</td>\n",
       "      <td>31.82</td>\n",
       "    </tr>\n",
       "  </tbody>\n",
       "</table>\n",
       "</div>"
      ],
      "text/plain": [
       "   bookings_seg  revenue_amount_seg  fuel_surcharge_amount_seg\n",
       "0             1               33.56                       7.30\n",
       "1             5              306.00                     127.50\n",
       "2            19             1365.50                     234.00\n",
       "3             3               81.35                      39.93\n",
       "4             2                0.00                      31.82"
      ]
     },
     "execution_count": 23,
     "metadata": {},
     "output_type": "execute_result"
    }
   ],
   "source": [
    "#vamos a intentar descubrir casos como el 4\n",
    "df.head()"
   ]
  },
  {
   "cell_type": "code",
   "execution_count": 25,
   "metadata": {
    "collapsed": false
   },
   "outputs": [],
   "source": [
    "df['revenue'] = df['revenue_amount_seg'] / df['bookings_seg']"
   ]
  },
  {
   "cell_type": "code",
   "execution_count": 26,
   "metadata": {
    "collapsed": false
   },
   "outputs": [
    {
     "data": {
      "text/html": [
       "<div>\n",
       "<table border=\"1\" class=\"dataframe\">\n",
       "  <thead>\n",
       "    <tr style=\"text-align: right;\">\n",
       "      <th></th>\n",
       "      <th>bookings_seg</th>\n",
       "      <th>revenue_amount_seg</th>\n",
       "      <th>fuel_surcharge_amount_seg</th>\n",
       "      <th>revenue</th>\n",
       "    </tr>\n",
       "  </thead>\n",
       "  <tbody>\n",
       "    <tr>\n",
       "      <th>0</th>\n",
       "      <td>1</td>\n",
       "      <td>33.56</td>\n",
       "      <td>7.30</td>\n",
       "      <td>33.560000</td>\n",
       "    </tr>\n",
       "    <tr>\n",
       "      <th>1</th>\n",
       "      <td>5</td>\n",
       "      <td>306.00</td>\n",
       "      <td>127.50</td>\n",
       "      <td>61.200000</td>\n",
       "    </tr>\n",
       "    <tr>\n",
       "      <th>2</th>\n",
       "      <td>19</td>\n",
       "      <td>1365.50</td>\n",
       "      <td>234.00</td>\n",
       "      <td>71.868421</td>\n",
       "    </tr>\n",
       "    <tr>\n",
       "      <th>3</th>\n",
       "      <td>3</td>\n",
       "      <td>81.35</td>\n",
       "      <td>39.93</td>\n",
       "      <td>27.116667</td>\n",
       "    </tr>\n",
       "    <tr>\n",
       "      <th>4</th>\n",
       "      <td>2</td>\n",
       "      <td>0.00</td>\n",
       "      <td>31.82</td>\n",
       "      <td>0.000000</td>\n",
       "    </tr>\n",
       "  </tbody>\n",
       "</table>\n",
       "</div>"
      ],
      "text/plain": [
       "   bookings_seg  revenue_amount_seg  fuel_surcharge_amount_seg    revenue\n",
       "0             1               33.56                       7.30  33.560000\n",
       "1             5              306.00                     127.50  61.200000\n",
       "2            19             1365.50                     234.00  71.868421\n",
       "3             3               81.35                      39.93  27.116667\n",
       "4             2                0.00                      31.82   0.000000"
      ]
     },
     "execution_count": 26,
     "metadata": {},
     "output_type": "execute_result"
    }
   ],
   "source": [
    "df.head()"
   ]
  },
  {
   "cell_type": "code",
   "execution_count": 27,
   "metadata": {
    "collapsed": true
   },
   "outputs": [],
   "source": [
    "df['tax'] = df['fuel_surcharge_amount_seg'] / df['bookings_seg']"
   ]
  },
  {
   "cell_type": "code",
   "execution_count": 28,
   "metadata": {
    "collapsed": false
   },
   "outputs": [
    {
     "data": {
      "text/html": [
       "<div>\n",
       "<table border=\"1\" class=\"dataframe\">\n",
       "  <thead>\n",
       "    <tr style=\"text-align: right;\">\n",
       "      <th></th>\n",
       "      <th>bookings_seg</th>\n",
       "      <th>revenue_amount_seg</th>\n",
       "      <th>fuel_surcharge_amount_seg</th>\n",
       "      <th>revenue</th>\n",
       "      <th>tax</th>\n",
       "    </tr>\n",
       "  </thead>\n",
       "  <tbody>\n",
       "    <tr>\n",
       "      <th>0</th>\n",
       "      <td>1</td>\n",
       "      <td>33.56</td>\n",
       "      <td>7.30</td>\n",
       "      <td>33.560000</td>\n",
       "      <td>7.300000</td>\n",
       "    </tr>\n",
       "    <tr>\n",
       "      <th>1</th>\n",
       "      <td>5</td>\n",
       "      <td>306.00</td>\n",
       "      <td>127.50</td>\n",
       "      <td>61.200000</td>\n",
       "      <td>25.500000</td>\n",
       "    </tr>\n",
       "    <tr>\n",
       "      <th>2</th>\n",
       "      <td>19</td>\n",
       "      <td>1365.50</td>\n",
       "      <td>234.00</td>\n",
       "      <td>71.868421</td>\n",
       "      <td>12.315789</td>\n",
       "    </tr>\n",
       "    <tr>\n",
       "      <th>3</th>\n",
       "      <td>3</td>\n",
       "      <td>81.35</td>\n",
       "      <td>39.93</td>\n",
       "      <td>27.116667</td>\n",
       "      <td>13.310000</td>\n",
       "    </tr>\n",
       "    <tr>\n",
       "      <th>4</th>\n",
       "      <td>2</td>\n",
       "      <td>0.00</td>\n",
       "      <td>31.82</td>\n",
       "      <td>0.000000</td>\n",
       "      <td>15.910000</td>\n",
       "    </tr>\n",
       "  </tbody>\n",
       "</table>\n",
       "</div>"
      ],
      "text/plain": [
       "   bookings_seg  revenue_amount_seg  fuel_surcharge_amount_seg    revenue  \\\n",
       "0             1               33.56                       7.30  33.560000   \n",
       "1             5              306.00                     127.50  61.200000   \n",
       "2            19             1365.50                     234.00  71.868421   \n",
       "3             3               81.35                      39.93  27.116667   \n",
       "4             2                0.00                      31.82   0.000000   \n",
       "\n",
       "         tax  \n",
       "0   7.300000  \n",
       "1  25.500000  \n",
       "2  12.315789  \n",
       "3  13.310000  \n",
       "4  15.910000  "
      ]
     },
     "execution_count": 28,
     "metadata": {},
     "output_type": "execute_result"
    }
   ],
   "source": [
    "df.head()"
   ]
  },
  {
   "cell_type": "code",
   "execution_count": 30,
   "metadata": {
    "collapsed": true
   },
   "outputs": [],
   "source": [
    "simple = df[['revenue', 'tax']]"
   ]
  },
  {
   "cell_type": "code",
   "execution_count": 39,
   "metadata": {
    "collapsed": false,
    "scrolled": false
   },
   "outputs": [
    {
     "data": {
      "image/png": "[encoded data removed]",
      "text/plain": [
       "<matplotlib.figure.Figure at 0x7f62c0402c50>"
      ]
     },
     "metadata": {},
     "output_type": "display_data"
    }
   ],
   "source": [
    "#f, ax = plt.subplot(figsize=(0,5))\n",
    "\n",
    "plt.scatter(simple['revenue'], simple['tax'], alpha=0.1)\n",
    "plt.xlim(-50,2000)\n",
    "plt.ylim(-50,600)\n",
    "plt.show()\n",
    "\n",
    "\n"
   ]
  },
  {
   "cell_type": "code",
   "execution_count": 40,
   "metadata": {
    "collapsed": false,
    "scrolled": true
   },
   "outputs": [],
   "source": [
    "smaller = simple.sample(10000)"
   ]
  },
  {
   "cell_type": "code",
   "execution_count": 41,
   "metadata": {
    "collapsed": false,
    "scrolled": true
   },
   "outputs": [
    {
     "data": {
      "image/png": "[encoded data removed]",
      "text/plain": [
       "<matplotlib.figure.Figure at 0x7f62c02e2b10>"
      ]
     },
     "metadata": {},
     "output_type": "display_data"
    }
   ],
   "source": [
    "plt.scatter(smaller['revenue'], smaller['tax'], alpha=0.1)\n",
    "plt.xlim(-50,2000)\n",
    "plt.ylim(-50,600)\n",
    "plt.show()"
   ]
  },
  {
   "cell_type": "code",
   "execution_count": 43,
   "metadata": {
    "collapsed": false
   },
   "outputs": [],
   "source": [
    "from sklearn.cluster import KMeans"
   ]
  },
  {
   "cell_type": "code",
   "execution_count": 44,
   "metadata": {
    "collapsed": true
   },
   "outputs": [],
   "source": [
    "import numpy as np"
   ]
  },
  {
   "cell_type": "code",
   "execution_count": 46,
   "metadata": {
    "collapsed": true
   },
   "outputs": [],
   "source": [
    "kmeans = KMeans(n_clusters=10)"
   ]
  },
  {
   "cell_type": "code",
   "execution_count": 47,
   "metadata": {
    "collapsed": false
   },
   "outputs": [],
   "source": [
    "clusters = kmeans.fit_predict(smaller)"
   ]
  },
  {
   "cell_type": "code",
   "execution_count": 48,
   "metadata": {
    "collapsed": false
   },
   "outputs": [
    {
     "data": {
      "text/plain": [
       "array([4, 0, 0, ..., 0, 0, 3], dtype=int32)"
      ]
     },
     "execution_count": 48,
     "metadata": {},
     "output_type": "execute_result"
    }
   ],
   "source": [
    "clusters"
   ]
  },
  {
   "cell_type": "code",
   "execution_count": 49,
   "metadata": {
    "collapsed": false
   },
   "outputs": [
    {
     "data": {
      "text/plain": [
       "revenue    318.10\n",
       "tax         87.43\n",
       "Name: 509552, dtype: float64"
      ]
     },
     "execution_count": 49,
     "metadata": {},
     "output_type": "execute_result"
    }
   ],
   "source": [
    "#smaller.iloc[0] es el primer punto, está en el cluster 4 (según el resultado del array:\n",
    "#array([4, 0, 0, ..., 0, 0, 3], dtype=int32)\n",
    "smaller.iloc[0]"
   ]
  },
  {
   "cell_type": "code",
   "execution_count": 50,
   "metadata": {
    "collapsed": false
   },
   "outputs": [
    {
     "name": "stderr",
     "output_type": "stream",
     "text": [
      "/usr/lib/python2.7/site-packages/IPython/kernel/__main__.py:1: SettingWithCopyWarning: \n",
      "A value is trying to be set on a copy of a slice from a DataFrame.\n",
      "Try using .loc[row_indexer,col_indexer] = value instead\n",
      "\n",
      "See the the caveats in the documentation: http://pandas.pydata.org/pandas-docs/stable/indexing.html#indexing-view-versus-copy\n",
      "  if __name__ == '__main__':\n"
     ]
    }
   ],
   "source": [
    "smaller['cluster'] = clusters "
   ]
  },
  {
   "cell_type": "code",
   "execution_count": 51,
   "metadata": {
    "collapsed": false
   },
   "outputs": [
    {
     "data": {
      "text/html": [
       "<div>\n",
       "<table border=\"1\" class=\"dataframe\">\n",
       "  <thead>\n",
       "    <tr style=\"text-align: right;\">\n",
       "      <th></th>\n",
       "      <th>revenue</th>\n",
       "      <th>tax</th>\n",
       "      <th>cluster</th>\n",
       "    </tr>\n",
       "  </thead>\n",
       "  <tbody>\n",
       "    <tr>\n",
       "      <th>509552</th>\n",
       "      <td>318.100000</td>\n",
       "      <td>87.430000</td>\n",
       "      <td>4</td>\n",
       "    </tr>\n",
       "    <tr>\n",
       "      <th>544787</th>\n",
       "      <td>0.000000</td>\n",
       "      <td>24.970000</td>\n",
       "      <td>0</td>\n",
       "    </tr>\n",
       "    <tr>\n",
       "      <th>659451</th>\n",
       "      <td>111.850000</td>\n",
       "      <td>24.490000</td>\n",
       "      <td>0</td>\n",
       "    </tr>\n",
       "    <tr>\n",
       "      <th>958165</th>\n",
       "      <td>55.170000</td>\n",
       "      <td>9.675000</td>\n",
       "      <td>0</td>\n",
       "    </tr>\n",
       "    <tr>\n",
       "      <th>1124810</th>\n",
       "      <td>18.110000</td>\n",
       "      <td>0.000000</td>\n",
       "      <td>0</td>\n",
       "    </tr>\n",
       "    <tr>\n",
       "      <th>95589</th>\n",
       "      <td>366.890000</td>\n",
       "      <td>196.390000</td>\n",
       "      <td>4</td>\n",
       "    </tr>\n",
       "    <tr>\n",
       "      <th>532092</th>\n",
       "      <td>35.610000</td>\n",
       "      <td>17.960000</td>\n",
       "      <td>0</td>\n",
       "    </tr>\n",
       "    <tr>\n",
       "      <th>570578</th>\n",
       "      <td>0.000000</td>\n",
       "      <td>178.680000</td>\n",
       "      <td>0</td>\n",
       "    </tr>\n",
       "    <tr>\n",
       "      <th>815291</th>\n",
       "      <td>176.820000</td>\n",
       "      <td>224.140000</td>\n",
       "      <td>9</td>\n",
       "    </tr>\n",
       "    <tr>\n",
       "      <th>355571</th>\n",
       "      <td>541.830000</td>\n",
       "      <td>116.795000</td>\n",
       "      <td>2</td>\n",
       "    </tr>\n",
       "    <tr>\n",
       "      <th>772706</th>\n",
       "      <td>42.397500</td>\n",
       "      <td>6.345000</td>\n",
       "      <td>0</td>\n",
       "    </tr>\n",
       "    <tr>\n",
       "      <th>312790</th>\n",
       "      <td>88.360000</td>\n",
       "      <td>23.670000</td>\n",
       "      <td>0</td>\n",
       "    </tr>\n",
       "    <tr>\n",
       "      <th>893872</th>\n",
       "      <td>157.500000</td>\n",
       "      <td>39.360000</td>\n",
       "      <td>7</td>\n",
       "    </tr>\n",
       "    <tr>\n",
       "      <th>85996</th>\n",
       "      <td>483.396667</td>\n",
       "      <td>136.800000</td>\n",
       "      <td>2</td>\n",
       "    </tr>\n",
       "    <tr>\n",
       "      <th>311465</th>\n",
       "      <td>214.360000</td>\n",
       "      <td>165.090000</td>\n",
       "      <td>9</td>\n",
       "    </tr>\n",
       "    <tr>\n",
       "      <th>1059419</th>\n",
       "      <td>166.845000</td>\n",
       "      <td>169.150000</td>\n",
       "      <td>9</td>\n",
       "    </tr>\n",
       "    <tr>\n",
       "      <th>1005718</th>\n",
       "      <td>15.750000</td>\n",
       "      <td>4.210000</td>\n",
       "      <td>0</td>\n",
       "    </tr>\n",
       "    <tr>\n",
       "      <th>1384923</th>\n",
       "      <td>208.990000</td>\n",
       "      <td>38.960000</td>\n",
       "      <td>7</td>\n",
       "    </tr>\n",
       "    <tr>\n",
       "      <th>201951</th>\n",
       "      <td>207.260000</td>\n",
       "      <td>186.690000</td>\n",
       "      <td>9</td>\n",
       "    </tr>\n",
       "    <tr>\n",
       "      <th>417203</th>\n",
       "      <td>34.490000</td>\n",
       "      <td>17.970000</td>\n",
       "      <td>0</td>\n",
       "    </tr>\n",
       "    <tr>\n",
       "      <th>1006971</th>\n",
       "      <td>0.000000</td>\n",
       "      <td>0.000000</td>\n",
       "      <td>0</td>\n",
       "    </tr>\n",
       "    <tr>\n",
       "      <th>251642</th>\n",
       "      <td>218.800000</td>\n",
       "      <td>161.790000</td>\n",
       "      <td>9</td>\n",
       "    </tr>\n",
       "    <tr>\n",
       "      <th>1169318</th>\n",
       "      <td>52.350000</td>\n",
       "      <td>21.680000</td>\n",
       "      <td>0</td>\n",
       "    </tr>\n",
       "    <tr>\n",
       "      <th>823306</th>\n",
       "      <td>139.000000</td>\n",
       "      <td>231.310000</td>\n",
       "      <td>9</td>\n",
       "    </tr>\n",
       "    <tr>\n",
       "      <th>839681</th>\n",
       "      <td>267.886667</td>\n",
       "      <td>207.190000</td>\n",
       "      <td>4</td>\n",
       "    </tr>\n",
       "    <tr>\n",
       "      <th>327946</th>\n",
       "      <td>41.290000</td>\n",
       "      <td>19.460000</td>\n",
       "      <td>0</td>\n",
       "    </tr>\n",
       "    <tr>\n",
       "      <th>1215326</th>\n",
       "      <td>320.030000</td>\n",
       "      <td>193.110000</td>\n",
       "      <td>4</td>\n",
       "    </tr>\n",
       "    <tr>\n",
       "      <th>1317444</th>\n",
       "      <td>675.990000</td>\n",
       "      <td>171.620000</td>\n",
       "      <td>6</td>\n",
       "    </tr>\n",
       "    <tr>\n",
       "      <th>532414</th>\n",
       "      <td>88.500000</td>\n",
       "      <td>43.010000</td>\n",
       "      <td>0</td>\n",
       "    </tr>\n",
       "    <tr>\n",
       "      <th>977514</th>\n",
       "      <td>147.150000</td>\n",
       "      <td>150.580000</td>\n",
       "      <td>9</td>\n",
       "    </tr>\n",
       "    <tr>\n",
       "      <th>...</th>\n",
       "      <td>...</td>\n",
       "      <td>...</td>\n",
       "      <td>...</td>\n",
       "    </tr>\n",
       "    <tr>\n",
       "      <th>794614</th>\n",
       "      <td>394.170000</td>\n",
       "      <td>230.190000</td>\n",
       "      <td>2</td>\n",
       "    </tr>\n",
       "    <tr>\n",
       "      <th>24995</th>\n",
       "      <td>52.796667</td>\n",
       "      <td>23.573333</td>\n",
       "      <td>0</td>\n",
       "    </tr>\n",
       "    <tr>\n",
       "      <th>559971</th>\n",
       "      <td>42.500000</td>\n",
       "      <td>17.570000</td>\n",
       "      <td>0</td>\n",
       "    </tr>\n",
       "    <tr>\n",
       "      <th>911307</th>\n",
       "      <td>181.000000</td>\n",
       "      <td>154.340000</td>\n",
       "      <td>9</td>\n",
       "    </tr>\n",
       "    <tr>\n",
       "      <th>713183</th>\n",
       "      <td>253.990000</td>\n",
       "      <td>173.765000</td>\n",
       "      <td>4</td>\n",
       "    </tr>\n",
       "    <tr>\n",
       "      <th>1141070</th>\n",
       "      <td>366.000000</td>\n",
       "      <td>207.190000</td>\n",
       "      <td>4</td>\n",
       "    </tr>\n",
       "    <tr>\n",
       "      <th>1073355</th>\n",
       "      <td>0.000000</td>\n",
       "      <td>18.910000</td>\n",
       "      <td>0</td>\n",
       "    </tr>\n",
       "    <tr>\n",
       "      <th>1344655</th>\n",
       "      <td>500.890000</td>\n",
       "      <td>161.910000</td>\n",
       "      <td>2</td>\n",
       "    </tr>\n",
       "    <tr>\n",
       "      <th>559341</th>\n",
       "      <td>183.290000</td>\n",
       "      <td>172.780000</td>\n",
       "      <td>9</td>\n",
       "    </tr>\n",
       "    <tr>\n",
       "      <th>1255783</th>\n",
       "      <td>641.220000</td>\n",
       "      <td>176.270000</td>\n",
       "      <td>6</td>\n",
       "    </tr>\n",
       "    <tr>\n",
       "      <th>515442</th>\n",
       "      <td>152.080000</td>\n",
       "      <td>35.380000</td>\n",
       "      <td>7</td>\n",
       "    </tr>\n",
       "    <tr>\n",
       "      <th>586623</th>\n",
       "      <td>789.500000</td>\n",
       "      <td>164.060000</td>\n",
       "      <td>6</td>\n",
       "    </tr>\n",
       "    <tr>\n",
       "      <th>1430547</th>\n",
       "      <td>480.935000</td>\n",
       "      <td>138.757500</td>\n",
       "      <td>2</td>\n",
       "    </tr>\n",
       "    <tr>\n",
       "      <th>776080</th>\n",
       "      <td>243.990000</td>\n",
       "      <td>44.200000</td>\n",
       "      <td>7</td>\n",
       "    </tr>\n",
       "    <tr>\n",
       "      <th>266779</th>\n",
       "      <td>104.990000</td>\n",
       "      <td>40.930000</td>\n",
       "      <td>0</td>\n",
       "    </tr>\n",
       "    <tr>\n",
       "      <th>1145093</th>\n",
       "      <td>60.190000</td>\n",
       "      <td>11.180000</td>\n",
       "      <td>0</td>\n",
       "    </tr>\n",
       "    <tr>\n",
       "      <th>1341963</th>\n",
       "      <td>157.290000</td>\n",
       "      <td>71.990000</td>\n",
       "      <td>7</td>\n",
       "    </tr>\n",
       "    <tr>\n",
       "      <th>1389764</th>\n",
       "      <td>72.730000</td>\n",
       "      <td>14.750000</td>\n",
       "      <td>0</td>\n",
       "    </tr>\n",
       "    <tr>\n",
       "      <th>947149</th>\n",
       "      <td>327.020000</td>\n",
       "      <td>157.930000</td>\n",
       "      <td>4</td>\n",
       "    </tr>\n",
       "    <tr>\n",
       "      <th>742290</th>\n",
       "      <td>134.430000</td>\n",
       "      <td>29.470000</td>\n",
       "      <td>7</td>\n",
       "    </tr>\n",
       "    <tr>\n",
       "      <th>673622</th>\n",
       "      <td>343.510000</td>\n",
       "      <td>173.250000</td>\n",
       "      <td>4</td>\n",
       "    </tr>\n",
       "    <tr>\n",
       "      <th>1356660</th>\n",
       "      <td>432.780000</td>\n",
       "      <td>219.090000</td>\n",
       "      <td>2</td>\n",
       "    </tr>\n",
       "    <tr>\n",
       "      <th>723970</th>\n",
       "      <td>622.000000</td>\n",
       "      <td>88.000000</td>\n",
       "      <td>2</td>\n",
       "    </tr>\n",
       "    <tr>\n",
       "      <th>1009186</th>\n",
       "      <td>182.420000</td>\n",
       "      <td>51.950000</td>\n",
       "      <td>7</td>\n",
       "    </tr>\n",
       "    <tr>\n",
       "      <th>865600</th>\n",
       "      <td>344.860000</td>\n",
       "      <td>187.530000</td>\n",
       "      <td>4</td>\n",
       "    </tr>\n",
       "    <tr>\n",
       "      <th>262591</th>\n",
       "      <td>162.000000</td>\n",
       "      <td>168.810000</td>\n",
       "      <td>9</td>\n",
       "    </tr>\n",
       "    <tr>\n",
       "      <th>1219392</th>\n",
       "      <td>99.000000</td>\n",
       "      <td>19.890000</td>\n",
       "      <td>0</td>\n",
       "    </tr>\n",
       "    <tr>\n",
       "      <th>708514</th>\n",
       "      <td>88.500000</td>\n",
       "      <td>29.820000</td>\n",
       "      <td>0</td>\n",
       "    </tr>\n",
       "    <tr>\n",
       "      <th>1051486</th>\n",
       "      <td>75.820000</td>\n",
       "      <td>19.066667</td>\n",
       "      <td>0</td>\n",
       "    </tr>\n",
       "    <tr>\n",
       "      <th>825595</th>\n",
       "      <td>1082.800000</td>\n",
       "      <td>193.790000</td>\n",
       "      <td>3</td>\n",
       "    </tr>\n",
       "  </tbody>\n",
       "</table>\n",
       "<p>10000 rows × 3 columns</p>\n",
       "</div>"
      ],
      "text/plain": [
       "             revenue         tax  cluster\n",
       "509552    318.100000   87.430000        4\n",
       "544787      0.000000   24.970000        0\n",
       "659451    111.850000   24.490000        0\n",
       "958165     55.170000    9.675000        0\n",
       "1124810    18.110000    0.000000        0\n",
       "95589     366.890000  196.390000        4\n",
       "532092     35.610000   17.960000        0\n",
       "570578      0.000000  178.680000        0\n",
       "815291    176.820000  224.140000        9\n",
       "355571    541.830000  116.795000        2\n",
       "772706     42.397500    6.345000        0\n",
       "312790     88.360000   23.670000        0\n",
       "893872    157.500000   39.360000        7\n",
       "85996     483.396667  136.800000        2\n",
       "311465    214.360000  165.090000        9\n",
       "1059419   166.845000  169.150000        9\n",
       "1005718    15.750000    4.210000        0\n",
       "1384923   208.990000   38.960000        7\n",
       "201951    207.260000  186.690000        9\n",
       "417203     34.490000   17.970000        0\n",
       "1006971     0.000000    0.000000        0\n",
       "251642    218.800000  161.790000        9\n",
       "1169318    52.350000   21.680000        0\n",
       "823306    139.000000  231.310000        9\n",
       "839681    267.886667  207.190000        4\n",
       "327946     41.290000   19.460000        0\n",
       "1215326   320.030000  193.110000        4\n",
       "1317444   675.990000  171.620000        6\n",
       "532414     88.500000   43.010000        0\n",
       "977514    147.150000  150.580000        9\n",
       "...              ...         ...      ...\n",
       "794614    394.170000  230.190000        2\n",
       "24995      52.796667   23.573333        0\n",
       "559971     42.500000   17.570000        0\n",
       "911307    181.000000  154.340000        9\n",
       "713183    253.990000  173.765000        4\n",
       "1141070   366.000000  207.190000        4\n",
       "1073355     0.000000   18.910000        0\n",
       "1344655   500.890000  161.910000        2\n",
       "559341    183.290000  172.780000        9\n",
       "1255783   641.220000  176.270000        6\n",
       "515442    152.080000   35.380000        7\n",
       "586623    789.500000  164.060000        6\n",
       "1430547   480.935000  138.757500        2\n",
       "776080    243.990000   44.200000        7\n",
       "266779    104.990000   40.930000        0\n",
       "1145093    60.190000   11.180000        0\n",
       "1341963   157.290000   71.990000        7\n",
       "1389764    72.730000   14.750000        0\n",
       "947149    327.020000  157.930000        4\n",
       "742290    134.430000   29.470000        7\n",
       "673622    343.510000  173.250000        4\n",
       "1356660   432.780000  219.090000        2\n",
       "723970    622.000000   88.000000        2\n",
       "1009186   182.420000   51.950000        7\n",
       "865600    344.860000  187.530000        4\n",
       "262591    162.000000  168.810000        9\n",
       "1219392    99.000000   19.890000        0\n",
       "708514     88.500000   29.820000        0\n",
       "1051486    75.820000   19.066667        0\n",
       "825595   1082.800000  193.790000        3\n",
       "\n",
       "[10000 rows x 3 columns]"
      ]
     },
     "execution_count": 51,
     "metadata": {},
     "output_type": "execute_result"
    }
   ],
   "source": [
    "smaller"
   ]
  },
  {
   "cell_type": "code",
   "execution_count": 53,
   "metadata": {
    "collapsed": false
   },
   "outputs": [],
   "source": [
    "groups = smaller.groupby(['cluster'])"
   ]
  },
  {
   "cell_type": "code",
   "execution_count": 55,
   "metadata": {
    "collapsed": false
   },
   "outputs": [],
   "source": [
    "means = groups.mean()"
   ]
  },
  {
   "cell_type": "code",
   "execution_count": 60,
   "metadata": {
    "collapsed": false
   },
   "outputs": [],
   "source": [
    "stdevs = groups.std()"
   ]
  },
  {
   "cell_type": "code",
   "execution_count": 69,
   "metadata": {
    "collapsed": false
   },
   "outputs": [],
   "source": [
    "#apaño temporal ya que algunos de los cluster daban sd = Nan\n",
    "stdevs = stdevs.fillna(0.0001)"
   ]
  },
  {
   "cell_type": "code",
   "execution_count": 65,
   "metadata": {
    "collapsed": true
   },
   "outputs": [],
   "source": [
    "#vamos a renombrar la columna\n",
    "means.columns = means.columns.map(lambda s : s + '_mean')"
   ]
  },
  {
   "cell_type": "code",
   "execution_count": 66,
   "metadata": {
    "collapsed": false
   },
   "outputs": [
    {
     "data": {
      "text/html": [
       "<div>\n",
       "<table border=\"1\" class=\"dataframe\">\n",
       "  <thead>\n",
       "    <tr style=\"text-align: right;\">\n",
       "      <th></th>\n",
       "      <th>revenue_mean</th>\n",
       "      <th>tax_mean</th>\n",
       "    </tr>\n",
       "    <tr>\n",
       "      <th>cluster</th>\n",
       "      <th></th>\n",
       "      <th></th>\n",
       "    </tr>\n",
       "  </thead>\n",
       "  <tbody>\n",
       "    <tr>\n",
       "      <th>0</th>\n",
       "      <td>58.821869</td>\n",
       "      <td>25.063538</td>\n",
       "    </tr>\n",
       "    <tr>\n",
       "      <th>1</th>\n",
       "      <td>214883.290000</td>\n",
       "      <td>29.730000</td>\n",
       "    </tr>\n",
       "    <tr>\n",
       "      <th>2</th>\n",
       "      <td>483.221219</td>\n",
       "      <td>188.915041</td>\n",
       "    </tr>\n",
       "  </tbody>\n",
       "</table>\n",
       "</div>"
      ],
      "text/plain": [
       "          revenue_mean    tax_mean\n",
       "cluster                           \n",
       "0            58.821869   25.063538\n",
       "1        214883.290000   29.730000\n",
       "2           483.221219  188.915041"
      ]
     },
     "execution_count": 66,
     "metadata": {},
     "output_type": "execute_result"
    }
   ],
   "source": [
    "means.head(3)"
   ]
  },
  {
   "cell_type": "code",
   "execution_count": 70,
   "metadata": {
    "collapsed": true
   },
   "outputs": [],
   "source": [
    "#vamos a renombrar la columna\n",
    "stdevs.columns = stdevs.columns.map(lambda s : s + '_stdev')"
   ]
  },
  {
   "cell_type": "code",
   "execution_count": 73,
   "metadata": {
    "collapsed": false
   },
   "outputs": [],
   "source": [
    "cluster_stats = pd.merge(means, stdevs, left_index=True, right_index=True)"
   ]
  },
  {
   "cell_type": "code",
   "execution_count": 74,
   "metadata": {
    "collapsed": false
   },
   "outputs": [
    {
     "data": {
      "text/html": [
       "<div>\n",
       "<table border=\"1\" class=\"dataframe\">\n",
       "  <thead>\n",
       "    <tr style=\"text-align: right;\">\n",
       "      <th></th>\n",
       "      <th>revenue_mean</th>\n",
       "      <th>tax_mean</th>\n",
       "      <th>revenue_stdev_stdev</th>\n",
       "      <th>tax_stdev_stdev</th>\n",
       "    </tr>\n",
       "    <tr>\n",
       "      <th>cluster</th>\n",
       "      <th></th>\n",
       "      <th></th>\n",
       "      <th></th>\n",
       "      <th></th>\n",
       "    </tr>\n",
       "  </thead>\n",
       "  <tbody>\n",
       "    <tr>\n",
       "      <th>0</th>\n",
       "      <td>58.821869</td>\n",
       "      <td>25.063538</td>\n",
       "      <td>34.760200</td>\n",
       "      <td>25.077254</td>\n",
       "    </tr>\n",
       "    <tr>\n",
       "      <th>1</th>\n",
       "      <td>214883.290000</td>\n",
       "      <td>29.730000</td>\n",
       "      <td>0.000100</td>\n",
       "      <td>0.000100</td>\n",
       "    </tr>\n",
       "    <tr>\n",
       "      <th>2</th>\n",
       "      <td>483.221219</td>\n",
       "      <td>188.915041</td>\n",
       "      <td>60.704558</td>\n",
       "      <td>48.698322</td>\n",
       "    </tr>\n",
       "    <tr>\n",
       "      <th>3</th>\n",
       "      <td>1331.466163</td>\n",
       "      <td>215.068430</td>\n",
       "      <td>187.448081</td>\n",
       "      <td>80.335445</td>\n",
       "    </tr>\n",
       "    <tr>\n",
       "      <th>4</th>\n",
       "      <td>304.931967</td>\n",
       "      <td>181.442708</td>\n",
       "      <td>45.508219</td>\n",
       "      <td>42.200591</td>\n",
       "    </tr>\n",
       "    <tr>\n",
       "      <th>5</th>\n",
       "      <td>6395.990000</td>\n",
       "      <td>207.190000</td>\n",
       "      <td>0.000100</td>\n",
       "      <td>0.000100</td>\n",
       "    </tr>\n",
       "    <tr>\n",
       "      <th>6</th>\n",
       "      <td>773.678307</td>\n",
       "      <td>205.056864</td>\n",
       "      <td>110.170303</td>\n",
       "      <td>57.430113</td>\n",
       "    </tr>\n",
       "    <tr>\n",
       "      <th>7</th>\n",
       "      <td>205.201417</td>\n",
       "      <td>40.878951</td>\n",
       "      <td>52.281328</td>\n",
       "      <td>18.719441</td>\n",
       "    </tr>\n",
       "    <tr>\n",
       "      <th>8</th>\n",
       "      <td>2036.111471</td>\n",
       "      <td>203.531176</td>\n",
       "      <td>301.587880</td>\n",
       "      <td>39.375342</td>\n",
       "    </tr>\n",
       "    <tr>\n",
       "      <th>9</th>\n",
       "      <td>167.493654</td>\n",
       "      <td>188.171249</td>\n",
       "      <td>50.503858</td>\n",
       "      <td>42.920531</td>\n",
       "    </tr>\n",
       "  </tbody>\n",
       "</table>\n",
       "</div>"
      ],
      "text/plain": [
       "          revenue_mean    tax_mean  revenue_stdev_stdev  tax_stdev_stdev\n",
       "cluster                                                                 \n",
       "0            58.821869   25.063538            34.760200        25.077254\n",
       "1        214883.290000   29.730000             0.000100         0.000100\n",
       "2           483.221219  188.915041            60.704558        48.698322\n",
       "3          1331.466163  215.068430           187.448081        80.335445\n",
       "4           304.931967  181.442708            45.508219        42.200591\n",
       "5          6395.990000  207.190000             0.000100         0.000100\n",
       "6           773.678307  205.056864           110.170303        57.430113\n",
       "7           205.201417   40.878951            52.281328        18.719441\n",
       "8          2036.111471  203.531176           301.587880        39.375342\n",
       "9           167.493654  188.171249            50.503858        42.920531"
      ]
     },
     "execution_count": 74,
     "metadata": {},
     "output_type": "execute_result"
    }
   ],
   "source": [
    "cluster_stats"
   ]
  },
  {
   "cell_type": "code",
   "execution_count": 76,
   "metadata": {
    "collapsed": true
   },
   "outputs": [],
   "source": [
    "#tenemos que transformar el index en una columna para hacer el join\n",
    "cluster_stats = cluster_stats.reset_index()"
   ]
  },
  {
   "cell_type": "code",
   "execution_count": 77,
   "metadata": {
    "collapsed": false
   },
   "outputs": [
    {
     "data": {
      "text/html": [
       "<div>\n",
       "<table border=\"1\" class=\"dataframe\">\n",
       "  <thead>\n",
       "    <tr style=\"text-align: right;\">\n",
       "      <th></th>\n",
       "      <th>cluster</th>\n",
       "      <th>revenue_mean</th>\n",
       "      <th>tax_mean</th>\n",
       "      <th>revenue_stdev_stdev</th>\n",
       "      <th>tax_stdev_stdev</th>\n",
       "    </tr>\n",
       "  </thead>\n",
       "  <tbody>\n",
       "    <tr>\n",
       "      <th>0</th>\n",
       "      <td>0</td>\n",
       "      <td>58.821869</td>\n",
       "      <td>25.063538</td>\n",
       "      <td>34.760200</td>\n",
       "      <td>25.077254</td>\n",
       "    </tr>\n",
       "    <tr>\n",
       "      <th>1</th>\n",
       "      <td>1</td>\n",
       "      <td>214883.290000</td>\n",
       "      <td>29.730000</td>\n",
       "      <td>0.000100</td>\n",
       "      <td>0.000100</td>\n",
       "    </tr>\n",
       "    <tr>\n",
       "      <th>2</th>\n",
       "      <td>2</td>\n",
       "      <td>483.221219</td>\n",
       "      <td>188.915041</td>\n",
       "      <td>60.704558</td>\n",
       "      <td>48.698322</td>\n",
       "    </tr>\n",
       "    <tr>\n",
       "      <th>3</th>\n",
       "      <td>3</td>\n",
       "      <td>1331.466163</td>\n",
       "      <td>215.068430</td>\n",
       "      <td>187.448081</td>\n",
       "      <td>80.335445</td>\n",
       "    </tr>\n",
       "    <tr>\n",
       "      <th>4</th>\n",
       "      <td>4</td>\n",
       "      <td>304.931967</td>\n",
       "      <td>181.442708</td>\n",
       "      <td>45.508219</td>\n",
       "      <td>42.200591</td>\n",
       "    </tr>\n",
       "    <tr>\n",
       "      <th>5</th>\n",
       "      <td>5</td>\n",
       "      <td>6395.990000</td>\n",
       "      <td>207.190000</td>\n",
       "      <td>0.000100</td>\n",
       "      <td>0.000100</td>\n",
       "    </tr>\n",
       "    <tr>\n",
       "      <th>6</th>\n",
       "      <td>6</td>\n",
       "      <td>773.678307</td>\n",
       "      <td>205.056864</td>\n",
       "      <td>110.170303</td>\n",
       "      <td>57.430113</td>\n",
       "    </tr>\n",
       "    <tr>\n",
       "      <th>7</th>\n",
       "      <td>7</td>\n",
       "      <td>205.201417</td>\n",
       "      <td>40.878951</td>\n",
       "      <td>52.281328</td>\n",
       "      <td>18.719441</td>\n",
       "    </tr>\n",
       "    <tr>\n",
       "      <th>8</th>\n",
       "      <td>8</td>\n",
       "      <td>2036.111471</td>\n",
       "      <td>203.531176</td>\n",
       "      <td>301.587880</td>\n",
       "      <td>39.375342</td>\n",
       "    </tr>\n",
       "    <tr>\n",
       "      <th>9</th>\n",
       "      <td>9</td>\n",
       "      <td>167.493654</td>\n",
       "      <td>188.171249</td>\n",
       "      <td>50.503858</td>\n",
       "      <td>42.920531</td>\n",
       "    </tr>\n",
       "  </tbody>\n",
       "</table>\n",
       "</div>"
      ],
      "text/plain": [
       "   cluster   revenue_mean    tax_mean  revenue_stdev_stdev  tax_stdev_stdev\n",
       "0        0      58.821869   25.063538            34.760200        25.077254\n",
       "1        1  214883.290000   29.730000             0.000100         0.000100\n",
       "2        2     483.221219  188.915041            60.704558        48.698322\n",
       "3        3    1331.466163  215.068430           187.448081        80.335445\n",
       "4        4     304.931967  181.442708            45.508219        42.200591\n",
       "5        5    6395.990000  207.190000             0.000100         0.000100\n",
       "6        6     773.678307  205.056864           110.170303        57.430113\n",
       "7        7     205.201417   40.878951            52.281328        18.719441\n",
       "8        8    2036.111471  203.531176           301.587880        39.375342\n",
       "9        9     167.493654  188.171249            50.503858        42.920531"
      ]
     },
     "execution_count": 77,
     "metadata": {},
     "output_type": "execute_result"
    }
   ],
   "source": [
    "cluster_stats"
   ]
  },
  {
   "cell_type": "code",
   "execution_count": null,
   "metadata": {
    "collapsed": true
   },
   "outputs": [],
   "source": []
  },
  {
   "cell_type": "code",
   "execution_count": 78,
   "metadata": {
    "collapsed": false
   },
   "outputs": [],
   "source": [
    "merged = pd.merge(smaller, cluster_stats, left_on='cluster', right_on='cluster')"
   ]
  },
  {
   "cell_type": "code",
   "execution_count": 79,
   "metadata": {
    "collapsed": false
   },
   "outputs": [
    {
     "data": {
      "text/html": [
       "<div>\n",
       "<table border=\"1\" class=\"dataframe\">\n",
       "  <thead>\n",
       "    <tr style=\"text-align: right;\">\n",
       "      <th></th>\n",
       "      <th>revenue</th>\n",
       "      <th>tax</th>\n",
       "      <th>cluster</th>\n",
       "      <th>revenue_mean</th>\n",
       "      <th>tax_mean</th>\n",
       "      <th>revenue_stdev_stdev</th>\n",
       "      <th>tax_stdev_stdev</th>\n",
       "    </tr>\n",
       "  </thead>\n",
       "  <tbody>\n",
       "    <tr>\n",
       "      <th>0</th>\n",
       "      <td>318.100000</td>\n",
       "      <td>87.43</td>\n",
       "      <td>4</td>\n",
       "      <td>304.931967</td>\n",
       "      <td>181.442708</td>\n",
       "      <td>45.508219</td>\n",
       "      <td>42.200591</td>\n",
       "    </tr>\n",
       "    <tr>\n",
       "      <th>1</th>\n",
       "      <td>366.890000</td>\n",
       "      <td>196.39</td>\n",
       "      <td>4</td>\n",
       "      <td>304.931967</td>\n",
       "      <td>181.442708</td>\n",
       "      <td>45.508219</td>\n",
       "      <td>42.200591</td>\n",
       "    </tr>\n",
       "    <tr>\n",
       "      <th>2</th>\n",
       "      <td>267.886667</td>\n",
       "      <td>207.19</td>\n",
       "      <td>4</td>\n",
       "      <td>304.931967</td>\n",
       "      <td>181.442708</td>\n",
       "      <td>45.508219</td>\n",
       "      <td>42.200591</td>\n",
       "    </tr>\n",
       "    <tr>\n",
       "      <th>3</th>\n",
       "      <td>320.030000</td>\n",
       "      <td>193.11</td>\n",
       "      <td>4</td>\n",
       "      <td>304.931967</td>\n",
       "      <td>181.442708</td>\n",
       "      <td>45.508219</td>\n",
       "      <td>42.200591</td>\n",
       "    </tr>\n",
       "    <tr>\n",
       "      <th>4</th>\n",
       "      <td>242.230000</td>\n",
       "      <td>220.97</td>\n",
       "      <td>4</td>\n",
       "      <td>304.931967</td>\n",
       "      <td>181.442708</td>\n",
       "      <td>45.508219</td>\n",
       "      <td>42.200591</td>\n",
       "    </tr>\n",
       "  </tbody>\n",
       "</table>\n",
       "</div>"
      ],
      "text/plain": [
       "      revenue     tax  cluster  revenue_mean    tax_mean  revenue_stdev_stdev  \\\n",
       "0  318.100000   87.43        4    304.931967  181.442708            45.508219   \n",
       "1  366.890000  196.39        4    304.931967  181.442708            45.508219   \n",
       "2  267.886667  207.19        4    304.931967  181.442708            45.508219   \n",
       "3  320.030000  193.11        4    304.931967  181.442708            45.508219   \n",
       "4  242.230000  220.97        4    304.931967  181.442708            45.508219   \n",
       "\n",
       "   tax_stdev_stdev  \n",
       "0        42.200591  \n",
       "1        42.200591  \n",
       "2        42.200591  \n",
       "3        42.200591  \n",
       "4        42.200591  "
      ]
     },
     "execution_count": 79,
     "metadata": {},
     "output_type": "execute_result"
    }
   ],
   "source": [
    "merged.head()"
   ]
  },
  {
   "cell_type": "code",
   "execution_count": 80,
   "metadata": {
    "collapsed": false
   },
   "outputs": [
    {
     "data": {
      "text/plain": [
       "0       <property object at 0x7f62e5d6ec58>\n",
       "1       <property object at 0x7f62e5d6ec58>\n",
       "2       <property object at 0x7f62e5d6ec58>\n",
       "3       <property object at 0x7f62e5d6ec58>\n",
       "4       <property object at 0x7f62e5d6ec58>\n",
       "5       <property object at 0x7f62e5d6ec58>\n",
       "6       <property object at 0x7f62e5d6ec58>\n",
       "7       <property object at 0x7f62e5d6ec58>\n",
       "8       <property object at 0x7f62e5d6ec58>\n",
       "9       <property object at 0x7f62e5d6ec58>\n",
       "10      <property object at 0x7f62e5d6ec58>\n",
       "11      <property object at 0x7f62e5d6ec58>\n",
       "12      <property object at 0x7f62e5d6ec58>\n",
       "13      <property object at 0x7f62e5d6ec58>\n",
       "14      <property object at 0x7f62e5d6ec58>\n",
       "15      <property object at 0x7f62e5d6ec58>\n",
       "16      <property object at 0x7f62e5d6ec58>\n",
       "17      <property object at 0x7f62e5d6ec58>\n",
       "18      <property object at 0x7f62e5d6ec58>\n",
       "19      <property object at 0x7f62e5d6ec58>\n",
       "20      <property object at 0x7f62e5d6ec58>\n",
       "21      <property object at 0x7f62e5d6ec58>\n",
       "22      <property object at 0x7f62e5d6ec58>\n",
       "23      <property object at 0x7f62e5d6ec58>\n",
       "24      <property object at 0x7f62e5d6ec58>\n",
       "25      <property object at 0x7f62e5d6ec58>\n",
       "26      <property object at 0x7f62e5d6ec58>\n",
       "27      <property object at 0x7f62e5d6ec58>\n",
       "28      <property object at 0x7f62e5d6ec58>\n",
       "29      <property object at 0x7f62e5d6ec58>\n",
       "                       ...                 \n",
       "9970    <property object at 0x7f62e5d6ec58>\n",
       "9971    <property object at 0x7f62e5d6ec58>\n",
       "9972    <property object at 0x7f62e5d6ec58>\n",
       "9973    <property object at 0x7f62e5d6ec58>\n",
       "9974    <property object at 0x7f62e5d6ec58>\n",
       "9975    <property object at 0x7f62e5d6ec58>\n",
       "9976    <property object at 0x7f62e5d6ec58>\n",
       "9977    <property object at 0x7f62e5d6ec58>\n",
       "9978    <property object at 0x7f62e5d6ec58>\n",
       "9979    <property object at 0x7f62e5d6ec58>\n",
       "9980    <property object at 0x7f62e5d6ec58>\n",
       "9981    <property object at 0x7f62e5d6ec58>\n",
       "9982    <property object at 0x7f62e5d6ec58>\n",
       "9983    <property object at 0x7f62e5d6ec58>\n",
       "9984    <property object at 0x7f62e5d6ec58>\n",
       "9985    <property object at 0x7f62e5d6ec58>\n",
       "9986    <property object at 0x7f62e5d6ec58>\n",
       "9987    <property object at 0x7f62e5d6ec58>\n",
       "9988    <property object at 0x7f62e5d6ec58>\n",
       "9989    <property object at 0x7f62e5d6ec58>\n",
       "9990    <property object at 0x7f62e5d6ec58>\n",
       "9991    <property object at 0x7f62e5d6ec58>\n",
       "9992    <property object at 0x7f62e5d6ec58>\n",
       "9993    <property object at 0x7f62e5d6ec58>\n",
       "9994    <property object at 0x7f62e5d6ec58>\n",
       "9995    <property object at 0x7f62e5d6ec58>\n",
       "9996    <property object at 0x7f62e5d6ec58>\n",
       "9997    <property object at 0x7f62e5d6ec58>\n",
       "9998    <property object at 0x7f62e5d6ec58>\n",
       "9999    <property object at 0x7f62e5d6ec58>\n",
       "dtype: object"
      ]
     },
     "execution_count": 80,
     "metadata": {},
     "output_type": "execute_result"
    }
   ],
   "source": [
    "#prototipo de la función\n",
    "def get_z(row):\n",
    "    return type(row)\n",
    "\n",
    "merged.apply(get_z, axis=1)"
   ]
  },
  {
   "cell_type": "code",
   "execution_count": 84,
   "metadata": {
    "collapsed": false
   },
   "outputs": [],
   "source": [
    "from math import sqrt\n",
    "def is_outlier(row):\n",
    "    z_rev = ( row['revenue'] - row['revenue_mean'] ) / row ['revenue_stdev_stdev']\n",
    "    z_tax = ( row['tax'] - row['tax_mean'] ) / row ['tax_stdev_stdev']\n",
    "    #raiz cuadrada de la suma de los cuadrados\n",
    "    z = sqrt(z_rev**2 + z_tax**2)\n",
    "    #devuelve true o false si el z score es mayor que 3\n",
    "    return z > 3\n",
    "\n",
    "outlier = merged.apply(is_outlier, axis=1)"
   ]
  },
  {
   "cell_type": "code",
   "execution_count": 85,
   "metadata": {
    "collapsed": false
   },
   "outputs": [
    {
     "data": {
      "text/plain": [
       "0    False\n",
       "1    False\n",
       "2    False\n",
       "3    False\n",
       "4    False\n",
       "dtype: bool"
      ]
     },
     "execution_count": 85,
     "metadata": {},
     "output_type": "execute_result"
    }
   ],
   "source": [
    "outlier.head()"
   ]
  },
  {
   "cell_type": "code",
   "execution_count": 108,
   "metadata": {
    "collapsed": false
   },
   "outputs": [],
   "source": [
    "merged['outlier'] = outlier"
   ]
  },
  {
   "cell_type": "code",
   "execution_count": 109,
   "metadata": {
    "collapsed": false
   },
   "outputs": [
    {
     "data": {
      "text/html": [
       "<div>\n",
       "<table border=\"1\" class=\"dataframe\">\n",
       "  <thead>\n",
       "    <tr style=\"text-align: right;\">\n",
       "      <th></th>\n",
       "      <th>revenue</th>\n",
       "      <th>tax</th>\n",
       "      <th>cluster</th>\n",
       "      <th>revenue_mean</th>\n",
       "      <th>tax_mean</th>\n",
       "      <th>revenue_stdev_stdev</th>\n",
       "      <th>tax_stdev_stdev</th>\n",
       "      <th>outlier</th>\n",
       "    </tr>\n",
       "  </thead>\n",
       "  <tbody>\n",
       "    <tr>\n",
       "      <th>0</th>\n",
       "      <td>318.100000</td>\n",
       "      <td>87.43</td>\n",
       "      <td>4</td>\n",
       "      <td>304.931967</td>\n",
       "      <td>181.442708</td>\n",
       "      <td>45.508219</td>\n",
       "      <td>42.200591</td>\n",
       "      <td>False</td>\n",
       "    </tr>\n",
       "    <tr>\n",
       "      <th>1</th>\n",
       "      <td>366.890000</td>\n",
       "      <td>196.39</td>\n",
       "      <td>4</td>\n",
       "      <td>304.931967</td>\n",
       "      <td>181.442708</td>\n",
       "      <td>45.508219</td>\n",
       "      <td>42.200591</td>\n",
       "      <td>False</td>\n",
       "    </tr>\n",
       "    <tr>\n",
       "      <th>2</th>\n",
       "      <td>267.886667</td>\n",
       "      <td>207.19</td>\n",
       "      <td>4</td>\n",
       "      <td>304.931967</td>\n",
       "      <td>181.442708</td>\n",
       "      <td>45.508219</td>\n",
       "      <td>42.200591</td>\n",
       "      <td>False</td>\n",
       "    </tr>\n",
       "    <tr>\n",
       "      <th>3</th>\n",
       "      <td>320.030000</td>\n",
       "      <td>193.11</td>\n",
       "      <td>4</td>\n",
       "      <td>304.931967</td>\n",
       "      <td>181.442708</td>\n",
       "      <td>45.508219</td>\n",
       "      <td>42.200591</td>\n",
       "      <td>False</td>\n",
       "    </tr>\n",
       "    <tr>\n",
       "      <th>4</th>\n",
       "      <td>242.230000</td>\n",
       "      <td>220.97</td>\n",
       "      <td>4</td>\n",
       "      <td>304.931967</td>\n",
       "      <td>181.442708</td>\n",
       "      <td>45.508219</td>\n",
       "      <td>42.200591</td>\n",
       "      <td>False</td>\n",
       "    </tr>\n",
       "  </tbody>\n",
       "</table>\n",
       "</div>"
      ],
      "text/plain": [
       "      revenue     tax  cluster  revenue_mean    tax_mean  revenue_stdev_stdev  \\\n",
       "0  318.100000   87.43        4    304.931967  181.442708            45.508219   \n",
       "1  366.890000  196.39        4    304.931967  181.442708            45.508219   \n",
       "2  267.886667  207.19        4    304.931967  181.442708            45.508219   \n",
       "3  320.030000  193.11        4    304.931967  181.442708            45.508219   \n",
       "4  242.230000  220.97        4    304.931967  181.442708            45.508219   \n",
       "\n",
       "   tax_stdev_stdev outlier  \n",
       "0        42.200591   False  \n",
       "1        42.200591   False  \n",
       "2        42.200591   False  \n",
       "3        42.200591   False  \n",
       "4        42.200591   False  "
      ]
     },
     "execution_count": 109,
     "metadata": {},
     "output_type": "execute_result"
    }
   ],
   "source": [
    "merged.head()"
   ]
  },
  {
   "cell_type": "code",
   "execution_count": 110,
   "metadata": {
    "collapsed": false
   },
   "outputs": [],
   "source": [
    "simple_oultiers = merged[['revenue', 'tax', 'outlier']]"
   ]
  },
  {
   "cell_type": "code",
   "execution_count": 111,
   "metadata": {
    "collapsed": false
   },
   "outputs": [
    {
     "data": {
      "text/html": [
       "<div>\n",
       "<table border=\"1\" class=\"dataframe\">\n",
       "  <thead>\n",
       "    <tr style=\"text-align: right;\">\n",
       "      <th></th>\n",
       "      <th>revenue</th>\n",
       "      <th>tax</th>\n",
       "      <th>outlier</th>\n",
       "    </tr>\n",
       "  </thead>\n",
       "  <tbody>\n",
       "    <tr>\n",
       "      <th>0</th>\n",
       "      <td>318.100000</td>\n",
       "      <td>87.43</td>\n",
       "      <td>False</td>\n",
       "    </tr>\n",
       "    <tr>\n",
       "      <th>1</th>\n",
       "      <td>366.890000</td>\n",
       "      <td>196.39</td>\n",
       "      <td>False</td>\n",
       "    </tr>\n",
       "    <tr>\n",
       "      <th>2</th>\n",
       "      <td>267.886667</td>\n",
       "      <td>207.19</td>\n",
       "      <td>False</td>\n",
       "    </tr>\n",
       "    <tr>\n",
       "      <th>3</th>\n",
       "      <td>320.030000</td>\n",
       "      <td>193.11</td>\n",
       "      <td>False</td>\n",
       "    </tr>\n",
       "    <tr>\n",
       "      <th>4</th>\n",
       "      <td>242.230000</td>\n",
       "      <td>220.97</td>\n",
       "      <td>False</td>\n",
       "    </tr>\n",
       "  </tbody>\n",
       "</table>\n",
       "</div>"
      ],
      "text/plain": [
       "      revenue     tax outlier\n",
       "0  318.100000   87.43   False\n",
       "1  366.890000  196.39   False\n",
       "2  267.886667  207.19   False\n",
       "3  320.030000  193.11   False\n",
       "4  242.230000  220.97   False"
      ]
     },
     "execution_count": 111,
     "metadata": {},
     "output_type": "execute_result"
    }
   ],
   "source": [
    "simple_oultiers.head()"
   ]
  },
  {
   "cell_type": "code",
   "execution_count": 112,
   "metadata": {
    "collapsed": false
   },
   "outputs": [
    {
     "ename": "TypeError",
     "evalue": "'function' object has no attribute '__getitem__'",
     "output_type": "error",
     "traceback": [
      "\u001b[1;31m---------------------------------------------------------------------------\u001b[0m",
      "\u001b[1;31mTypeError\u001b[0m                                 Traceback (most recent call last)",
      "\u001b[1;32m<ipython-input-112-3d2f149fe005>\u001b[0m in \u001b[0;36m<module>\u001b[1;34m()\u001b[0m\n\u001b[0;32m      1\u001b[0m \u001b[0mplt\u001b[0m\u001b[1;33m.\u001b[0m\u001b[0mscatter\u001b[0m\u001b[1;33m(\u001b[0m\u001b[0msimple_oultiers\u001b[0m\u001b[1;33m[\u001b[0m\u001b[1;34m'revenue'\u001b[0m\u001b[1;33m]\u001b[0m\u001b[1;33m,\u001b[0m \u001b[0msimple_oultiers\u001b[0m\u001b[1;33m[\u001b[0m\u001b[1;34m'tax'\u001b[0m\u001b[1;33m]\u001b[0m\u001b[1;33m,\u001b[0m \u001b[0mc\u001b[0m\u001b[1;33m=\u001b[0m\u001b[0msimple_oultiers\u001b[0m\u001b[1;33m[\u001b[0m\u001b[1;34m'outlier'\u001b[0m\u001b[1;33m]\u001b[0m\u001b[1;33m,\u001b[0m \u001b[0malpha\u001b[0m\u001b[1;33m=\u001b[0m\u001b[1;36m0.1\u001b[0m\u001b[1;33m)\u001b[0m\u001b[1;33m\u001b[0m\u001b[0m\n\u001b[1;32m----> 2\u001b[1;33m \u001b[0mplt\u001b[0m\u001b[1;33m.\u001b[0m\u001b[0mxlim\u001b[0m\u001b[1;33m[\u001b[0m\u001b[1;33m-\u001b[0m\u001b[1;36m50\u001b[0m\u001b[1;33m,\u001b[0m\u001b[1;36m2000\u001b[0m\u001b[1;33m]\u001b[0m\u001b[1;33m\u001b[0m\u001b[0m\n\u001b[0m\u001b[0;32m      3\u001b[0m \u001b[0mplt\u001b[0m\u001b[1;33m.\u001b[0m\u001b[0mylim\u001b[0m\u001b[1;33m[\u001b[0m\u001b[1;33m-\u001b[0m\u001b[1;36m50\u001b[0m\u001b[1;33m,\u001b[0m\u001b[1;36m600\u001b[0m\u001b[1;33m]\u001b[0m\u001b[1;33m\u001b[0m\u001b[0m\n\u001b[0;32m      4\u001b[0m \u001b[0mplt\u001b[0m\u001b[1;33m.\u001b[0m\u001b[0mshow\u001b[0m\u001b[1;33m(\u001b[0m\u001b[1;33m)\u001b[0m\u001b[1;33m\u001b[0m\u001b[0m\n",
      "\u001b[1;31mTypeError\u001b[0m: 'function' object has no attribute '__getitem__'"
     ]
    },
    {
     "data": {
      "image/png": "[encoded data removed]",
      "text/plain": [
       "<matplotlib.figure.Figure at 0x7f62609f3490>"
      ]
     },
     "metadata": {},
     "output_type": "display_data"
    }
   ],
   "source": [
    "plt.scatter(simple_oultiers['revenue'], simple_oultiers['tax'], c=simple_oultiers['outlier'], alpha=0.1)\n",
    "plt.xlim[-50,2000]\n",
    "plt.ylim[-50,600]\n",
    "plt.show()"
   ]
  },
  {
   "cell_type": "code",
   "execution_count": 101,
   "metadata": {
    "collapsed": false
   },
   "outputs": [
    {
     "data": {
      "text/plain": [
       "0          318.100000\n",
       "1          366.890000\n",
       "2          267.886667\n",
       "3          320.030000\n",
       "4          242.230000\n",
       "5          252.000000\n",
       "6          296.330000\n",
       "7          298.450000\n",
       "8          325.500000\n",
       "9          280.990000\n",
       "10         368.170000\n",
       "11         285.640000\n",
       "12         279.650000\n",
       "13         310.960000\n",
       "14         386.920000\n",
       "15         345.150000\n",
       "16         354.000000\n",
       "17         310.990000\n",
       "18         262.900000\n",
       "19         339.990000\n",
       "20         336.210000\n",
       "21         306.000000\n",
       "22         264.330000\n",
       "23         255.490000\n",
       "24         397.400000\n",
       "25         252.210000\n",
       "26         373.705000\n",
       "27         380.990000\n",
       "28         239.530000\n",
       "29         383.265000\n",
       "            ...      \n",
       "9970      1086.000000\n",
       "9971      1302.490000\n",
       "9972      1081.000000\n",
       "9973      1534.990000\n",
       "9974      1091.000000\n",
       "9975      1569.120000\n",
       "9976      1401.560000\n",
       "9977      1600.380000\n",
       "9978      1525.000000\n",
       "9979      1347.000000\n",
       "9980      1461.020000\n",
       "9981      1311.500000\n",
       "9982      1407.950000\n",
       "9983      1100.990000\n",
       "9984      1306.430000\n",
       "9985      1088.820000\n",
       "9986      1532.880000\n",
       "9987      1668.660000\n",
       "9988      1441.000000\n",
       "9989      1203.500000\n",
       "9990      1316.510000\n",
       "9991      1227.250000\n",
       "9992      1457.500000\n",
       "9993      1303.500000\n",
       "9994      1288.500000\n",
       "9995      1495.915000\n",
       "9996      1327.730000\n",
       "9997      1082.800000\n",
       "9998    214883.290000\n",
       "9999      6395.990000\n",
       "Name: revenue, dtype: float64"
      ]
     },
     "execution_count": 101,
     "metadata": {},
     "output_type": "execute_result"
    }
   ],
   "source": [
    "simple_oultiers['revenue']"
   ]
  },
  {
   "cell_type": "code",
   "execution_count": null,
   "metadata": {
    "collapsed": true
   },
   "outputs": [],
   "source": []
  }
 ],
 "metadata": {
  "kernelspec": {
   "display_name": "PySpark",
   "language": "python",
   "name": "pyspark"
  },
  "language_info": {
   "codemirror_mode": {
    "name": "ipython",
    "version": 2
   },
   "file_extension": ".py",
   "mimetype": "text/x-python",
   "name": "python",
   "nbconvert_exporter": "python",
   "pygments_lexer": "ipython2",
   "version": "2.7.10"
  }
 },
 "nbformat": 4,
 "nbformat_minor": 0
}
